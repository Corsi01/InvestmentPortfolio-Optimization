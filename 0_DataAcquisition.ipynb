{
  "cells": [
    {
      "cell_type": "markdown",
      "source": [
        "# DATA ACQUISITION"
      ],
      "metadata": {
        "id": "IY9dxJhNwG_a"
      },
      "id": "IY9dxJhNwG_a"
    },
    {
      "cell_type": "code",
      "execution_count": null,
      "id": "ac7d6764-65f3-4d84-928c-386dcb894daa",
      "metadata": {
        "id": "ac7d6764-65f3-4d84-928c-386dcb894daa"
      },
      "outputs": [],
      "source": [
        "# Import required library\n",
        "import pandas as pd\n",
        "import numpy as np\n",
        "import os\n",
        "import yfinance as yf\n",
        "from datetime import datetime"
      ]
    },
    {
      "cell_type": "markdown",
      "id": "3d9a632c-c012-447c-ad01-0a1759201745",
      "metadata": {
        "id": "3d9a632c-c012-447c-ad01-0a1759201745"
      },
      "source": [
        "In this notebook we are going to acquire all data that we need for our project. We are going to consider a period of ten years\n",
        "from 2014 to 2023. The reference index will be the NAS100; here we are going to acquire its price history and the history of its\n",
        "shares over the last 10 years (where possible)."
      ]
    },
    {
      "cell_type": "code",
      "execution_count": null,
      "id": "13081ac7-5256-4604-adc7-af8d0be25bb9",
      "metadata": {
        "id": "13081ac7-5256-4604-adc7-af8d0be25bb9",
        "outputId": "b8c86feb-afe4-4ad9-df79-43367bec5b73"
      },
      "outputs": [
        {
          "name": "stdout",
          "output_type": "stream",
          "text": [
            "Table 0\n",
            "                                    0                                   1\n",
            "0  Nasdaq-100 Index from 1985 to 2015  Nasdaq-100 Index from 1985 to 2015\n",
            "1                          Foundation      January 31, 1985; 39 years ago\n",
            "2                            Operator                        Nasdaq, Inc.\n",
            "3                           Exchanges                              Nasdaq\n",
            "4                      Trading symbol                                ^NDX \n",
            "\n",
            "Table 1\n",
            "   Category  All-Time Highs[9]       All-Time Highs[9].1\n",
            "0   Closing           20675.38  Wednesday, July 10, 2024\n",
            "1  Intraday           20690.87  Wednesday, July 10, 2024 \n",
            "\n",
            "Table 2\n",
            "   Milestone[10] (closing) Date of Record (closing)[10]  Trading Days[10]\n",
            "0                     1000                 July 8, 1997              3143\n",
            "1                     2000             January 11, 1999               381\n",
            "2                     3000            November 18, 1999               217\n",
            "3                     4000             February 8, 2000                55\n",
            "4                     5000              January 6, 2017              4255 \n",
            "\n",
            "Table 3\n",
            "   Year  Closing level Change in Index in Points Change in Index in %\n",
            "0  1985         132.29                       NaN                  NaN\n",
            "1  1986         141.41                      9.12                 6.89\n",
            "2  1987         156.25                     14.84                10.49\n",
            "3  1988         177.41                     21.16                13.54\n",
            "4  1989         223.84                     46.43                26.17 \n",
            "\n",
            "Table 4\n",
            "                   Company Ticker             GICS Sector  \\\n",
            "0               Adobe Inc.   ADBE  Information Technology   \n",
            "1                      ADP    ADP             Industrials   \n",
            "2                   Airbnb   ABNB  Consumer Discretionary   \n",
            "3  Alphabet Inc. (Class A)  GOOGL  Communication Services   \n",
            "4  Alphabet Inc. (Class C)   GOOG  Communication Services   \n",
            "\n",
            "                      GICS Sub-Industry  \n",
            "0                  Application Software  \n",
            "1  Human Resource & Employment Services  \n",
            "2        Hotels, Resorts & Cruise Lines  \n",
            "3          Interactive Media & Services  \n",
            "4          Interactive Media & Services   \n",
            "\n",
            "Table 5\n",
            "                vteCompanies of the Nasdaq-100 index  \\\n",
            "0  Adobe ADP AMD Airbnb Alphabet Amazon AEP Amgen...   \n",
            "\n",
            "              vteCompanies of the Nasdaq-100 index.1  \n",
            "0  Adobe ADP AMD Airbnb Alphabet Amazon AEP Amgen...   \n",
            "\n",
            "Table 6\n",
            "                                     vteNasdaq, Inc.  \\\n",
            "0  Operator of the Nasdaq, Nasdaq Nordic, and Nas...   \n",
            "1                                          Exchanges   \n",
            "2                                            Indices   \n",
            "3                                     Other holdings   \n",
            "\n",
            "                                   vteNasdaq, Inc..1  \\\n",
            "0  Operator of the Nasdaq, Nasdaq Nordic, and Nas...   \n",
            "1  Boston First North Nasdaq Baltic Riga Tallinn ...   \n",
            "2  Baltic 10 Copenhagen 25 Helsinki 25 Iceland 8 ...   \n",
            "3  GlobeNewswire Nasdaq MarketSite Nasdaq Private...   \n",
            "\n",
            "                                   vteNasdaq, Inc..2  \n",
            "0  Operator of the Nasdaq, Nasdaq Nordic, and Nas...  \n",
            "1                                                NaN  \n",
            "2                                                NaN  \n",
            "3                                                NaN   \n",
            "\n",
            "Table 7\n",
            "  vteStock market indices                          vteStock market indices.1\n",
            "0                  Global  Equities MSCI ACWI Index MSCI World S&P Global...\n",
            "1                Equities  MSCI ACWI Index MSCI World S&P Global 100 S&P ...\n",
            "2             Commodities  Bloomberg Commodity Index S&P GSCI Deutsche Ba...\n",
            "3                Regional  Asia S&P Asia 50 Europe EURO STOXX 50 STOXX Eu...\n",
            "4                    Asia                                        S&P Asia 50 \n",
            "\n",
            "Table 8\n",
            "             0                                                  1\n",
            "0     Equities  MSCI ACWI Index MSCI World S&P Global 100 S&P ...\n",
            "1  Commodities  Bloomberg Commodity Index S&P GSCI Deutsche Ba... \n",
            "\n",
            "Table 9\n",
            "               0                                                  1\n",
            "0           Asia                                        S&P Asia 50\n",
            "1         Europe  EURO STOXX 50 STOXX Europe 600 FTSEurofirst 30...\n",
            "2  Latin America                               S&P Latin America 40\n",
            "3          Other                                 MSCI EAFE MSCI GCC \n",
            "\n",
            "Table 10\n",
            "             0                                                  1\n",
            "0       Energy                                     Amex Oil Index\n",
            "1  Electronics                   PHLX Semiconductor Sector TecDax\n",
            "2       Metals  HUI Gold Index Philadelphia Gold and Silver Index\n",
            "3  Real estate                              CBV Real Estate Index\n",
            "4        Water                              Palisades Water Index \n",
            "\n",
            "Table 11\n",
            "        0                                                  1\n",
            "0      US  Major Dow Jones Industrial Average NYSE Compos...\n",
            "1   Major  Dow Jones Industrial Average NYSE Composite Na...\n",
            "2   Other  Dow Jones Transportation Average Dow Jones Uti...\n",
            "3  Canada                 S&P/TSX 60 S&P/TSX Composite Index\n",
            "4   Other  Indice de Precios y Cotizaciones (Mexico) COLC... \n",
            "\n",
            "Table 12\n",
            "       0                                                  1\n",
            "0  Major  Dow Jones Industrial Average NYSE Composite Na...\n",
            "1  Other  Dow Jones Transportation Average Dow Jones Uti... \n",
            "\n",
            "Table 13\n",
            "        0                                                  1\n",
            "0      UK  FT 30 FTSE 100 Index FTSE 250 Index FTSE 350 I...\n",
            "1  France  CAC 40 CAC Next 20 CAC Mid 60 CAC Small CAC Al...\n",
            "2   Other  AEX ATX BEL 20 BUX DAX FTSE MIB IBEX 35 ISEQ 2... \n",
            "\n",
            "Table 14\n",
            "             0                                                  1\n",
            "0        China  SSE Composite SZSE Component SSE 50 Index SSE ...\n",
            "1        India        BSE SENSEX NIFTY 50 NIFTY Next 50 NIFTY 500\n",
            "2        Japan                     Nikkei 225 TOPIX S&P/TOPIX 150\n",
            "3  South Korea                                       KOSPI KOSDAQ\n",
            "4        Other  KASE (Kazakhstan) KSE (Kyrgyzstan) Tashkent (U... \n",
            "\n",
            "Table 15\n",
            "             0                                                  1\n",
            "0    Australia  S&P/ASX 20 S&P/ASX 50 S&P/ASX 200 S&P/ASX 300 ...\n",
            "1  New Zealand                                   S&P/NZX 50 Index \n",
            "\n",
            "Table 16\n",
            "         vteMajor United States stock market indices  \\\n",
            "0  Dow Jones Industrial Average historical compon...   \n",
            "\n",
            "       vteMajor United States stock market indices.1  \n",
            "0  Dow Jones Industrial Average historical compon...   \n",
            "\n",
            "Table 17\n",
            "  vteMajor North and South American stock market indices  \\\n",
            "0                                      United States       \n",
            "1                                             Canada       \n",
            "2                                             Mexico       \n",
            "3                                           Colombia       \n",
            "4                                             Brazil       \n",
            "\n",
            "  vteMajor North and South American stock market indices.1  \n",
            "0  Dow Jones Industrial Average Dow Jones Transpo...        \n",
            "1                 S&P/TSX 60 S&P/TSX Composite Index        \n",
            "2                   Indice de Precios y Cotizaciones        \n",
            "3  COLCAP Indice General de la Bolsa de Valores d...        \n",
            "4                                     Índice Bovespa         \n",
            "\n"
          ]
        }
      ],
      "source": [
        "url = 'https://en.wikipedia.org/wiki/Nasdaq-100'\n",
        "\n",
        "# Read all tables from the webpage\n",
        "tables = pd.read_html(url)\n",
        "\n",
        "# Check all tables to find the right one\n",
        "for i, table in enumerate(tables):\n",
        "    print(f\"Table {i}\")\n",
        "    print(table.head(), \"\\n\")"
      ]
    },
    {
      "cell_type": "code",
      "execution_count": null,
      "id": "856218b3-c3d2-454f-8840-d6e5581ac8c2",
      "metadata": {
        "id": "856218b3-c3d2-454f-8840-d6e5581ac8c2",
        "outputId": "7c0bf52d-64d1-457b-8bc7-a8be6165b206"
      },
      "outputs": [
        {
          "data": {
            "text/plain": [
              "0       ADBE\n",
              "1        ADP\n",
              "2       ABNB\n",
              "3      GOOGL\n",
              "4       GOOG\n",
              "       ...  \n",
              "96       WBA\n",
              "97       WBD\n",
              "98      WDAY\n",
              "99       XEL\n",
              "100       ZS\n",
              "Name: Ticker, Length: 101, dtype: object"
            ]
          },
          "execution_count": 3,
          "metadata": {},
          "output_type": "execute_result"
        }
      ],
      "source": [
        "# Let's start by considering the shares that are currently componing our interest index\n",
        "tickers = tables[4][\"Ticker\"]\n",
        "tickers"
      ]
    },
    {
      "cell_type": "markdown",
      "id": "aab194ac-f0a1-43ae-8255-932a1cba7397",
      "metadata": {
        "id": "aab194ac-f0a1-43ae-8255-932a1cba7397"
      },
      "source": [
        "We are going to use data about added and removed security along the index history to get a list of all shares to be considered"
      ]
    },
    {
      "cell_type": "code",
      "execution_count": null,
      "id": "1e6fc3e9",
      "metadata": {
        "id": "1e6fc3e9",
        "outputId": "ca84e936-70c0-4273-f4f8-9e847468606c"
      },
      "outputs": [
        {
          "data": {
            "text/html": [
              "<div>\n",
              "<style scoped>\n",
              "    .dataframe tbody tr th:only-of-type {\n",
              "        vertical-align: middle;\n",
              "    }\n",
              "\n",
              "    .dataframe tbody tr th {\n",
              "        vertical-align: top;\n",
              "    }\n",
              "\n",
              "    .dataframe thead th {\n",
              "        text-align: right;\n",
              "    }\n",
              "</style>\n",
              "<table border=\"1\" class=\"dataframe\">\n",
              "  <thead>\n",
              "    <tr style=\"text-align: right;\">\n",
              "      <th></th>\n",
              "      <th>dateAdded</th>\n",
              "      <th>addedSecurity</th>\n",
              "      <th>removedTicker</th>\n",
              "      <th>removedSecurity</th>\n",
              "      <th>date</th>\n",
              "      <th>symbol</th>\n",
              "      <th>reason</th>\n",
              "    </tr>\n",
              "  </thead>\n",
              "  <tbody>\n",
              "    <tr>\n",
              "      <th>0</th>\n",
              "      <td>March 18, 2024</td>\n",
              "      <td>Linde plc</td>\n",
              "      <td>SPLK</td>\n",
              "      <td>Splunk Inc</td>\n",
              "      <td>2024-03-18</td>\n",
              "      <td>LIN</td>\n",
              "      <td>Annual Re-ranking</td>\n",
              "    </tr>\n",
              "    <tr>\n",
              "      <th>1</th>\n",
              "      <td>December 18, 2023</td>\n",
              "      <td></td>\n",
              "      <td>SGEN</td>\n",
              "      <td>Seagen Inc</td>\n",
              "      <td>2023-12-18</td>\n",
              "      <td>TTWO</td>\n",
              "      <td>Annual Re-ranking</td>\n",
              "    </tr>\n",
              "    <tr>\n",
              "      <th>2</th>\n",
              "      <td>December 18, 2023</td>\n",
              "      <td>CDW Corporation</td>\n",
              "      <td>ALGN</td>\n",
              "      <td>Align Technology Inc</td>\n",
              "      <td>2023-12-18</td>\n",
              "      <td>CDW</td>\n",
              "      <td>Annual Re-ranking</td>\n",
              "    </tr>\n",
              "    <tr>\n",
              "      <th>3</th>\n",
              "      <td>December 18, 2023</td>\n",
              "      <td></td>\n",
              "      <td>EBAY</td>\n",
              "      <td>eBay Inc</td>\n",
              "      <td>2023-12-18</td>\n",
              "      <td>CCEP</td>\n",
              "      <td>Annual Re-ranking</td>\n",
              "    </tr>\n",
              "    <tr>\n",
              "      <th>4</th>\n",
              "      <td>December 18, 2023</td>\n",
              "      <td>DoorDash Inc</td>\n",
              "      <td>ENPH</td>\n",
              "      <td>Enphase Energy Inc</td>\n",
              "      <td>2023-12-18</td>\n",
              "      <td>DASH</td>\n",
              "      <td>Annual Re-ranking</td>\n",
              "    </tr>\n",
              "    <tr>\n",
              "      <th>...</th>\n",
              "      <td>...</td>\n",
              "      <td>...</td>\n",
              "      <td>...</td>\n",
              "      <td>...</td>\n",
              "      <td>...</td>\n",
              "      <td>...</td>\n",
              "      <td>...</td>\n",
              "    </tr>\n",
              "    <tr>\n",
              "      <th>401</th>\n",
              "      <td>March 6, 1995</td>\n",
              "      <td>HBO &amp; Co</td>\n",
              "      <td>SON</td>\n",
              "      <td>Sonoco Products Co</td>\n",
              "      <td>1995-03-06</td>\n",
              "      <td>HBOC</td>\n",
              "      <td>Annual Re-ranking</td>\n",
              "    </tr>\n",
              "    <tr>\n",
              "      <th>402</th>\n",
              "      <td>February 27, 1995</td>\n",
              "      <td></td>\n",
              "      <td>SMLS</td>\n",
              "      <td>SciMed Life Systems, Inc</td>\n",
              "      <td>1995-02-27</td>\n",
              "      <td>KLAC</td>\n",
              "      <td>Annual Re-ranking</td>\n",
              "    </tr>\n",
              "    <tr>\n",
              "      <th>403</th>\n",
              "      <td>February 13, 1995</td>\n",
              "      <td>A Schulman Inc</td>\n",
              "      <td>QVCN</td>\n",
              "      <td>QVC, Inc.</td>\n",
              "      <td>1995-02-13</td>\n",
              "      <td>SHLM</td>\n",
              "      <td>Annual Re-ranking</td>\n",
              "    </tr>\n",
              "    <tr>\n",
              "      <th>404</th>\n",
              "      <td>January 27, 1995</td>\n",
              "      <td>RPM Int'l Inc</td>\n",
              "      <td>DG</td>\n",
              "      <td>Dollar General Corp</td>\n",
              "      <td>1995-01-27</td>\n",
              "      <td>RPM</td>\n",
              "      <td>Annual Re-ranking</td>\n",
              "    </tr>\n",
              "    <tr>\n",
              "      <th>405</th>\n",
              "      <td>January 27, 1995</td>\n",
              "      <td>StrataCom, Inc.</td>\n",
              "      <td>MGMA</td>\n",
              "      <td>Magma Power Company</td>\n",
              "      <td>1995-01-27</td>\n",
              "      <td>STRM</td>\n",
              "      <td>Annual Re-ranking</td>\n",
              "    </tr>\n",
              "  </tbody>\n",
              "</table>\n",
              "<p>406 rows × 7 columns</p>\n",
              "</div>"
            ],
            "text/plain": [
              "             dateAdded    addedSecurity removedTicker  \\\n",
              "0       March 18, 2024        Linde plc          SPLK   \n",
              "1    December 18, 2023                           SGEN   \n",
              "2    December 18, 2023  CDW Corporation          ALGN   \n",
              "3    December 18, 2023                           EBAY   \n",
              "4    December 18, 2023     DoorDash Inc          ENPH   \n",
              "..                 ...              ...           ...   \n",
              "401      March 6, 1995         HBO & Co           SON   \n",
              "402  February 27, 1995                           SMLS   \n",
              "403  February 13, 1995   A Schulman Inc          QVCN   \n",
              "404   January 27, 1995    RPM Int'l Inc            DG   \n",
              "405   January 27, 1995  StrataCom, Inc.          MGMA   \n",
              "\n",
              "              removedSecurity       date symbol             reason  \n",
              "0                  Splunk Inc 2024-03-18    LIN  Annual Re-ranking  \n",
              "1                  Seagen Inc 2023-12-18   TTWO  Annual Re-ranking  \n",
              "2        Align Technology Inc 2023-12-18    CDW  Annual Re-ranking  \n",
              "3                    eBay Inc 2023-12-18   CCEP  Annual Re-ranking  \n",
              "4          Enphase Energy Inc 2023-12-18   DASH  Annual Re-ranking  \n",
              "..                        ...        ...    ...                ...  \n",
              "401        Sonoco Products Co 1995-03-06   HBOC  Annual Re-ranking  \n",
              "402  SciMed Life Systems, Inc 1995-02-27   KLAC  Annual Re-ranking  \n",
              "403                 QVC, Inc. 1995-02-13   SHLM  Annual Re-ranking  \n",
              "404       Dollar General Corp 1995-01-27    RPM  Annual Re-ranking  \n",
              "405       Magma Power Company 1995-01-27   STRM  Annual Re-ranking  \n",
              "\n",
              "[406 rows x 7 columns]"
            ]
          },
          "execution_count": 4,
          "metadata": {},
          "output_type": "execute_result"
        }
      ],
      "source": [
        "# Load data\n",
        "nasdaq_constituent = pd.read_json(\"nasdaq_constituent.json\")\n",
        "nasdaq_constituent"
      ]
    },
    {
      "cell_type": "code",
      "execution_count": null,
      "id": "6ad77bf7",
      "metadata": {
        "id": "6ad77bf7"
      },
      "outputs": [],
      "source": [
        "tickers_added = nasdaq_constituent[\"symbol\"].unique().tolist()\n",
        "tickers_removed = nasdaq_constituent[\"removedTicker\"].unique().tolist()"
      ]
    },
    {
      "cell_type": "code",
      "execution_count": null,
      "id": "f472864d",
      "metadata": {
        "id": "f472864d"
      },
      "outputs": [],
      "source": [
        "S1 = set(tickers)\n",
        "S2 = set(tickers_added)\n",
        "S3 = set(tickers_removed)\n",
        "S4 = S2.union(S3)\n",
        "new_tickers = list(S4.difference(S1))"
      ]
    },
    {
      "cell_type": "code",
      "execution_count": null,
      "id": "b190c02f",
      "metadata": {
        "id": "b190c02f",
        "outputId": "95b7af0b-29e0-4a26-d662-e35b78c3f10b"
      },
      "outputs": [
        {
          "data": {
            "text/plain": [
              "322"
            ]
          },
          "execution_count": 7,
          "metadata": {},
          "output_type": "execute_result"
        }
      ],
      "source": [
        "len(new_tickers)"
      ]
    },
    {
      "cell_type": "code",
      "execution_count": null,
      "id": "14b7f738",
      "metadata": {
        "id": "14b7f738"
      },
      "outputs": [],
      "source": [
        "tickers_list = tickers.to_list()\n",
        "total_tickers = tickers_list + new_tickers"
      ]
    },
    {
      "cell_type": "code",
      "execution_count": null,
      "id": "984ba270",
      "metadata": {
        "id": "984ba270"
      },
      "outputs": [],
      "source": [
        "total_tickers.remove('')"
      ]
    },
    {
      "cell_type": "code",
      "execution_count": null,
      "id": "c1a51a61",
      "metadata": {
        "id": "c1a51a61",
        "outputId": "11dd4caa-af45-41a8-f81e-7b4926546217"
      },
      "outputs": [
        {
          "data": {
            "text/plain": [
              "422"
            ]
          },
          "execution_count": 10,
          "metadata": {},
          "output_type": "execute_result"
        }
      ],
      "source": [
        "len(total_tickers)"
      ]
    },
    {
      "cell_type": "code",
      "execution_count": null,
      "id": "cee309ce-fb02-4d5a-98b0-2cd1c15be2ba",
      "metadata": {
        "id": "cee309ce-fb02-4d5a-98b0-2cd1c15be2ba",
        "outputId": "da6f330b-0ffc-4c8d-f679-360c746c3b14"
      },
      "outputs": [
        {
          "name": "stderr",
          "output_type": "stream",
          "text": [
            "[*********************100%%**********************]  1 of 1 completed\n",
            "[*********************100%%**********************]  1 of 1 completed\n",
            "[*********************100%%**********************]  1 of 1 completed\n",
            "[*********************100%%**********************]  1 of 1 completed\n",
            "[*********************100%%**********************]  1 of 1 completed\n",
            "[*********************100%%**********************]  1 of 1 completed\n",
            "[*********************100%%**********************]  1 of 1 completed\n",
            "[*********************100%%**********************]  1 of 1 completed\n",
            "[*********************100%%**********************]  1 of 1 completed\n",
            "[*********************100%%**********************]  1 of 1 completed\n",
            "[*********************100%%**********************]  1 of 1 completed\n",
            "[*********************100%%**********************]  1 of 1 completed\n",
            "[*********************100%%**********************]  1 of 1 completed\n",
            "[*********************100%%**********************]  1 of 1 completed\n",
            "[*********************100%%**********************]  1 of 1 completed\n",
            "[*********************100%%**********************]  1 of 1 completed\n",
            "[*********************100%%**********************]  1 of 1 completed\n",
            "[*********************100%%**********************]  1 of 1 completed\n",
            "[*********************100%%**********************]  1 of 1 completed\n",
            "[*********************100%%**********************]  1 of 1 completed\n",
            "[*********************100%%**********************]  1 of 1 completed\n",
            "[*********************100%%**********************]  1 of 1 completed\n",
            "[*********************100%%**********************]  1 of 1 completed\n",
            "[*********************100%%**********************]  1 of 1 completed\n",
            "[*********************100%%**********************]  1 of 1 completed\n",
            "[*********************100%%**********************]  1 of 1 completed\n",
            "[*********************100%%**********************]  1 of 1 completed\n",
            "[*********************100%%**********************]  1 of 1 completed\n",
            "[*********************100%%**********************]  1 of 1 completed\n",
            "[*********************100%%**********************]  1 of 1 completed\n",
            "[*********************100%%**********************]  1 of 1 completed\n",
            "[*********************100%%**********************]  1 of 1 completed\n",
            "[*********************100%%**********************]  1 of 1 completed\n",
            "[*********************100%%**********************]  1 of 1 completed\n",
            "[*********************100%%**********************]  1 of 1 completed\n",
            "[*********************100%%**********************]  1 of 1 completed\n",
            "[*********************100%%**********************]  1 of 1 completed\n",
            "[*********************100%%**********************]  1 of 1 completed\n",
            "[*********************100%%**********************]  1 of 1 completed\n",
            "[*********************100%%**********************]  1 of 1 completed\n",
            "[*********************100%%**********************]  1 of 1 completed\n",
            "[*********************100%%**********************]  1 of 1 completed\n",
            "[*********************100%%**********************]  1 of 1 completed\n",
            "[*********************100%%**********************]  1 of 1 completed\n",
            "[*********************100%%**********************]  1 of 1 completed\n",
            "[*********************100%%**********************]  1 of 1 completed\n",
            "[*********************100%%**********************]  1 of 1 completed\n",
            "[*********************100%%**********************]  1 of 1 completed\n",
            "[*********************100%%**********************]  1 of 1 completed\n",
            "[*********************100%%**********************]  1 of 1 completed\n",
            "[*********************100%%**********************]  1 of 1 completed\n",
            "[*********************100%%**********************]  1 of 1 completed\n",
            "[*********************100%%**********************]  1 of 1 completed\n",
            "[*********************100%%**********************]  1 of 1 completed\n",
            "[*********************100%%**********************]  1 of 1 completed\n",
            "[*********************100%%**********************]  1 of 1 completed\n",
            "[*********************100%%**********************]  1 of 1 completed\n",
            "[*********************100%%**********************]  1 of 1 completed\n",
            "[*********************100%%**********************]  1 of 1 completed\n",
            "[*********************100%%**********************]  1 of 1 completed\n",
            "[*********************100%%**********************]  1 of 1 completed\n",
            "[*********************100%%**********************]  1 of 1 completed\n",
            "[*********************100%%**********************]  1 of 1 completed\n",
            "[*********************100%%**********************]  1 of 1 completed\n",
            "[*********************100%%**********************]  1 of 1 completed\n",
            "[*********************100%%**********************]  1 of 1 completed\n",
            "[*********************100%%**********************]  1 of 1 completed\n",
            "[*********************100%%**********************]  1 of 1 completed\n",
            "[*********************100%%**********************]  1 of 1 completed\n",
            "[*********************100%%**********************]  1 of 1 completed\n",
            "[*********************100%%**********************]  1 of 1 completed\n",
            "[*********************100%%**********************]  1 of 1 completed\n",
            "[*********************100%%**********************]  1 of 1 completed\n",
            "[*********************100%%**********************]  1 of 1 completed\n",
            "[*********************100%%**********************]  1 of 1 completed\n",
            "[*********************100%%**********************]  1 of 1 completed\n",
            "[*********************100%%**********************]  1 of 1 completed\n",
            "[*********************100%%**********************]  1 of 1 completed\n",
            "[*********************100%%**********************]  1 of 1 completed\n",
            "[*********************100%%**********************]  1 of 1 completed\n",
            "[*********************100%%**********************]  1 of 1 completed\n",
            "[*********************100%%**********************]  1 of 1 completed\n",
            "[*********************100%%**********************]  1 of 1 completed\n",
            "[*********************100%%**********************]  1 of 1 completed\n",
            "[*********************100%%**********************]  1 of 1 completed\n",
            "[*********************100%%**********************]  1 of 1 completed\n",
            "[*********************100%%**********************]  1 of 1 completed\n",
            "[*********************100%%**********************]  1 of 1 completed\n",
            "[*********************100%%**********************]  1 of 1 completed\n",
            "[*********************100%%**********************]  1 of 1 completed\n",
            "[*********************100%%**********************]  1 of 1 completed\n",
            "[*********************100%%**********************]  1 of 1 completed\n",
            "[*********************100%%**********************]  1 of 1 completed\n",
            "[*********************100%%**********************]  1 of 1 completed\n",
            "[*********************100%%**********************]  1 of 1 completed\n",
            "[*********************100%%**********************]  1 of 1 completed\n",
            "[*********************100%%**********************]  1 of 1 completed\n",
            "[*********************100%%**********************]  1 of 1 completed\n",
            "[*********************100%%**********************]  1 of 1 completed\n",
            "[*********************100%%**********************]  1 of 1 completed\n",
            "[*********************100%%**********************]  1 of 1 completed\n",
            "[*********************100%%**********************]  1 of 1 completed\n",
            "[*********************100%%**********************]  1 of 1 completed\n",
            "[*********************100%%**********************]  1 of 1 completed\n",
            "[*********************100%%**********************]  1 of 1 completed\n",
            "\n",
            "1 Failed download:\n",
            "['ALXN']: YFTzMissingError('$%ticker%: possibly delisted; No timezone found')\n",
            "[*********************100%%**********************]  1 of 1 completed\n",
            "[*********************100%%**********************]  1 of 1 completed\n",
            "\n",
            "1 Failed download:\n",
            "['CEXP']: YFPricesMissingError('$%ticker%: possibly delisted; No price data found  (1d 2013-12-31 -> 2023-12-31)')\n"
          ]
        },
        {
          "name": "stdout",
          "output_type": "stream",
          "text": [
            "$CEXP: possibly delisted; No price data found  (1d 2013-12-31 -> 2023-12-31)\n"
          ]
        },
        {
          "name": "stderr",
          "output_type": "stream",
          "text": [
            "[*********************100%%**********************]  1 of 1 completed\n",
            "[*********************100%%**********************]  1 of 1 completed\n",
            "[*********************100%%**********************]  1 of 1 completed\n",
            "[*********************100%%**********************]  1 of 1 completed\n",
            "[*********************100%%**********************]  1 of 1 completed\n",
            "[*********************100%%**********************]  1 of 1 completed\n",
            "[*********************100%%**********************]  1 of 1 completed\n",
            "\n",
            "1 Failed download:\n",
            "['DISH']: YFTzMissingError('$%ticker%: possibly delisted; No timezone found')\n",
            "[*********************100%%**********************]  1 of 1 completed\n",
            "\n",
            "1 Failed download:\n",
            "['GLBC']: YFPricesMissingError('$%ticker%: possibly delisted; No price data found  (1d 2013-12-31 -> 2023-12-31)')\n"
          ]
        },
        {
          "name": "stdout",
          "output_type": "stream",
          "text": [
            "$GLBC: possibly delisted; No price data found  (1d 2013-12-31 -> 2023-12-31)\n"
          ]
        },
        {
          "name": "stderr",
          "output_type": "stream",
          "text": [
            "[*********************100%%**********************]  1 of 1 completed\n",
            "\n",
            "1 Failed download:\n",
            "['CERN']: YFTzMissingError('$%ticker%: possibly delisted; No timezone found')\n",
            "[*********************100%%**********************]  1 of 1 completed\n",
            "\n",
            "1 Failed download:\n",
            "['SXCL']: YFPricesMissingError('$%ticker%: possibly delisted; No price data found  (1d 2013-12-31 -> 2023-12-31)')\n"
          ]
        },
        {
          "name": "stdout",
          "output_type": "stream",
          "text": [
            "$SXCL: possibly delisted; No price data found  (1d 2013-12-31 -> 2023-12-31)\n"
          ]
        },
        {
          "name": "stderr",
          "output_type": "stream",
          "text": [
            "[*********************100%%**********************]  1 of 1 completed\n",
            "[*********************100%%**********************]  1 of 1 completed\n",
            "[*********************100%%**********************]  1 of 1 completed\n",
            "\n",
            "1 Failed download:\n",
            "['JOY']: YFPricesMissingError('$%ticker%: possibly delisted; No price data found  (1d 2013-12-31 -> 2023-12-31)')\n"
          ]
        },
        {
          "name": "stdout",
          "output_type": "stream",
          "text": [
            "$JOY: possibly delisted; No price data found  (1d 2013-12-31 -> 2023-12-31)\n"
          ]
        },
        {
          "name": "stderr",
          "output_type": "stream",
          "text": [
            "[*********************100%%**********************]  1 of 1 completed\n",
            "[*********************100%%**********************]  1 of 1 completed\n",
            "\n",
            "1 Failed download:\n",
            "['OSI']: YFTzMissingError('$%ticker%: possibly delisted; No timezone found')\n",
            "[*********************100%%**********************]  1 of 1 completed\n",
            "\n",
            "1 Failed download:\n",
            "['JCOR']: YFPricesMissingError('$%ticker%: possibly delisted; No price data found  (1d 2013-12-31 -> 2023-12-31)')\n"
          ]
        },
        {
          "name": "stdout",
          "output_type": "stream",
          "text": [
            "$JCOR: possibly delisted; No price data found  (1d 2013-12-31 -> 2023-12-31)\n"
          ]
        },
        {
          "name": "stderr",
          "output_type": "stream",
          "text": [
            "[*********************100%%**********************]  1 of 1 completed\n",
            "[*********************100%%**********************]  1 of 1 completed\n",
            "[*********************100%%**********************]  1 of 1 completed\n",
            "[*********************100%%**********************]  1 of 1 completed\n",
            "[*********************100%%**********************]  1 of 1 completed\n",
            "\n",
            "1 Failed download:\n",
            "['SGEN']: YFTzMissingError('$%ticker%: possibly delisted; No timezone found')\n",
            "[*********************100%%**********************]  1 of 1 completed\n",
            "\n",
            "1 Failed download:\n",
            "['HBOC']: YFPricesMissingError('$%ticker%: possibly delisted; No price data found  (1d 2013-12-31 -> 2023-12-31)')\n"
          ]
        },
        {
          "name": "stdout",
          "output_type": "stream",
          "text": [
            "$HBOC: possibly delisted; No price data found  (1d 2013-12-31 -> 2023-12-31)\n"
          ]
        },
        {
          "name": "stderr",
          "output_type": "stream",
          "text": [
            "[*********************100%%**********************]  1 of 1 completed\n",
            "[*********************100%%**********************]  1 of 1 completed\n",
            "\n",
            "1 Failed download:\n",
            "['MFNX']: YFPricesMissingError('$%ticker%: possibly delisted; No price data found  (1d 2013-12-31 -> 2023-12-31)')\n"
          ]
        },
        {
          "name": "stdout",
          "output_type": "stream",
          "text": [
            "$MFNX: possibly delisted; No price data found  (1d 2013-12-31 -> 2023-12-31)\n"
          ]
        },
        {
          "name": "stderr",
          "output_type": "stream",
          "text": [
            "[*********************100%%**********************]  1 of 1 completed\n",
            "[*********************100%%**********************]  1 of 1 completed\n",
            "\n",
            "1 Failed download:\n",
            "['WLTW']: YFTzMissingError('$%ticker%: possibly delisted; No timezone found')\n",
            "[*********************100%%**********************]  1 of 1 completed\n",
            "\n",
            "1 Failed download:\n",
            "['YRCW']: YFTzMissingError('$%ticker%: possibly delisted; No timezone found')\n",
            "[*********************100%%**********************]  1 of 1 completed\n",
            "\n",
            "1 Failed download:\n",
            "['LNCR']: YFPricesMissingError('$%ticker%: possibly delisted; No price data found  (1d 2013-12-31 -> 2023-12-31)')\n"
          ]
        },
        {
          "name": "stdout",
          "output_type": "stream",
          "text": [
            "$LNCR: possibly delisted; No price data found  (1d 2013-12-31 -> 2023-12-31)\n"
          ]
        },
        {
          "name": "stderr",
          "output_type": "stream",
          "text": [
            "[*********************100%%**********************]  1 of 1 completed\n",
            "\n",
            "1 Failed download:\n",
            "['LMCK']: YFTzMissingError('$%ticker%: possibly delisted; No timezone found')\n",
            "[*********************100%%**********************]  1 of 1 completed\n",
            "[*********************100%%**********************]  1 of 1 completed\n",
            "[*********************100%%**********************]  1 of 1 completed\n",
            "[*********************100%%**********************]  1 of 1 completed\n",
            "\n",
            "1 Failed download:\n",
            "['NSOL']: YFPricesMissingError('$%ticker%: possibly delisted; No price data found  (1d 2013-12-31 -> 2023-12-31)')\n"
          ]
        },
        {
          "name": "stdout",
          "output_type": "stream",
          "text": [
            "$NSOL: possibly delisted; No price data found  (1d 2013-12-31 -> 2023-12-31)\n"
          ]
        },
        {
          "name": "stderr",
          "output_type": "stream",
          "text": [
            "[*********************100%%**********************]  1 of 1 completed\n",
            "\n",
            "1 Failed download:\n",
            "['MXIM']: YFTzMissingError('$%ticker%: possibly delisted; No timezone found')\n",
            "[*********************100%%**********************]  1 of 1 completed\n",
            "[*********************100%%**********************]  1 of 1 completed\n",
            "[*********************100%%**********************]  1 of 1 completed\n",
            "[*********************100%%**********************]  1 of 1 completed\n",
            "\n",
            "1 Failed download:\n",
            "['FORT']: YFTzMissingError('$%ticker%: possibly delisted; No timezone found')\n",
            "[*********************100%%**********************]  1 of 1 completed\n",
            "\n",
            "1 Failed download:\n",
            "['AMLN']: YFPricesMissingError('$%ticker%: possibly delisted; No price data found  (1d 2013-12-31 -> 2023-12-31)')\n"
          ]
        },
        {
          "name": "stdout",
          "output_type": "stream",
          "text": [
            "$AMLN: possibly delisted; No price data found  (1d 2013-12-31 -> 2023-12-31)\n"
          ]
        },
        {
          "name": "stderr",
          "output_type": "stream",
          "text": [
            "[*********************100%%**********************]  1 of 1 completed\n",
            "[*********************100%%**********************]  1 of 1 completed\n",
            "[*********************100%%**********************]  1 of 1 completed\n",
            "[*********************100%%**********************]  1 of 1 completed\n",
            "[*********************100%%**********************]  1 of 1 completed\n",
            "[*********************100%%**********************]  1 of 1 completed\n",
            "\n",
            "1 Failed download:\n",
            "['QTRN']: possibly delisted; No price data found  (1d 2013-12-31 -> 2023-12-31)\n"
          ]
        },
        {
          "name": "stdout",
          "output_type": "stream",
          "text": [
            "$QTRN: possibly delisted; No price data found  (1d 2013-12-31 -> 2023-12-31)\n"
          ]
        },
        {
          "name": "stderr",
          "output_type": "stream",
          "text": [
            "[*********************100%%**********************]  1 of 1 completed\n",
            "[*********************100%%**********************]  1 of 1 completed\n",
            "\n",
            "1 Failed download:\n",
            "['WCOM']: YFPricesMissingError('$%ticker%: possibly delisted; No price data found  (1d 2013-12-31 -> 2023-12-31)')\n"
          ]
        },
        {
          "name": "stdout",
          "output_type": "stream",
          "text": [
            "$WCOM: possibly delisted; No price data found  (1d 2013-12-31 -> 2023-12-31)\n"
          ]
        },
        {
          "name": "stderr",
          "output_type": "stream",
          "text": [
            "[*********************100%%**********************]  1 of 1 completed\n",
            "[*********************100%%**********************]  1 of 1 completed\n",
            "\n",
            "1 Failed download:\n",
            "['OFIS']: YFPricesMissingError('$%ticker%: possibly delisted; No price data found  (1d 2013-12-31 -> 2023-12-31)')\n"
          ]
        },
        {
          "name": "stdout",
          "output_type": "stream",
          "text": [
            "$OFIS: possibly delisted; No price data found  (1d 2013-12-31 -> 2023-12-31)\n"
          ]
        },
        {
          "name": "stderr",
          "output_type": "stream",
          "text": [
            "[*********************100%%**********************]  1 of 1 completed\n",
            "[*********************100%%**********************]  1 of 1 completed\n",
            "[*********************100%%**********************]  1 of 1 completed\n",
            "[*********************100%%**********************]  1 of 1 completed\n",
            "[*********************100%%**********************]  1 of 1 completed\n",
            "\n",
            "1 Failed download:\n",
            "['MICC']: YFPricesMissingError('$%ticker%: possibly delisted; No price data found  (1d 2013-12-31 -> 2023-12-31)')\n"
          ]
        },
        {
          "name": "stdout",
          "output_type": "stream",
          "text": [
            "$MICC: possibly delisted; No price data found  (1d 2013-12-31 -> 2023-12-31)\n"
          ]
        },
        {
          "name": "stderr",
          "output_type": "stream",
          "text": [
            "[*********************100%%**********************]  1 of 1 completed\n",
            "[*********************100%%**********************]  1 of 1 completed\n",
            "\n",
            "1 Failed download:\n",
            "['CMCSK']: YFPricesMissingError('$%ticker%: possibly delisted; No price data found  (1d 2013-12-31 -> 2023-12-31)')\n"
          ]
        },
        {
          "name": "stdout",
          "output_type": "stream",
          "text": [
            "$CMCSK: possibly delisted; No price data found  (1d 2013-12-31 -> 2023-12-31)\n"
          ]
        },
        {
          "name": "stderr",
          "output_type": "stream",
          "text": [
            "[*********************100%%**********************]  1 of 1 completed\n",
            "[*********************100%%**********************]  1 of 1 completed\n",
            "\n",
            "1 Failed download:\n",
            "['BEAS']: YFPricesMissingError('$%ticker%: possibly delisted; No price data found  (1d 2013-12-31 -> 2023-12-31)')\n",
            "[*********************100%%**********************]  1 of 1 completed\n",
            "\n",
            "1 Failed download:\n",
            "['PPDI']: YFPricesMissingError('$%ticker%: possibly delisted; No price data found  (1d 2013-12-31 -> 2023-12-31)')\n"
          ]
        },
        {
          "name": "stdout",
          "output_type": "stream",
          "text": [
            "$BEAS: possibly delisted; No price data found  (1d 2013-12-31 -> 2023-12-31)\n",
            "$PPDI: possibly delisted; No price data found  (1d 2013-12-31 -> 2023-12-31)\n"
          ]
        },
        {
          "name": "stderr",
          "output_type": "stream",
          "text": [
            "[*********************100%%**********************]  1 of 1 completed\n",
            "\n",
            "1 Failed download:\n",
            "['BOST']: YFPricesMissingError('$%ticker%: possibly delisted; No price data found  (1d 2013-12-31 -> 2023-12-31)')\n"
          ]
        },
        {
          "name": "stdout",
          "output_type": "stream",
          "text": [
            "$BOST: possibly delisted; No price data found  (1d 2013-12-31 -> 2023-12-31)\n"
          ]
        },
        {
          "name": "stderr",
          "output_type": "stream",
          "text": [
            "[*********************100%%**********************]  1 of 1 completed\n",
            "[*********************100%%**********************]  1 of 1 completed\n",
            "\n",
            "1 Failed download:\n",
            "['CMVT']: YFPricesMissingError('$%ticker%: possibly delisted; No price data found  (1d 2013-12-31 -> 2023-12-31)')\n"
          ]
        },
        {
          "name": "stdout",
          "output_type": "stream",
          "text": [
            "$CMVT: possibly delisted; No price data found  (1d 2013-12-31 -> 2023-12-31)\n"
          ]
        },
        {
          "name": "stderr",
          "output_type": "stream",
          "text": [
            "[*********************100%%**********************]  1 of 1 completed\n",
            "[*********************100%%**********************]  1 of 1 completed\n",
            "[*********************100%%**********************]  1 of 1 completed\n",
            "\n",
            "1 Failed download:\n",
            "['VTSS']: YFPricesMissingError('$%ticker%: possibly delisted; No price data found  (1d 2013-12-31 -> 2023-12-31)')\n",
            "[*********************100%%**********************]  1 of 1 completed\n",
            "\n",
            "1 Failed download:\n",
            "['CKFR']: YFPricesMissingError('$%ticker%: possibly delisted; No price data found  (1d 2013-12-31 -> 2023-12-31)')\n"
          ]
        },
        {
          "name": "stdout",
          "output_type": "stream",
          "text": [
            "$VTSS: possibly delisted; No price data found  (1d 2013-12-31 -> 2023-12-31)\n",
            "$CKFR: possibly delisted; No price data found  (1d 2013-12-31 -> 2023-12-31)\n"
          ]
        },
        {
          "name": "stderr",
          "output_type": "stream",
          "text": [
            "[*********************100%%**********************]  1 of 1 completed\n",
            "[*********************100%%**********************]  1 of 1 completed\n",
            "\n",
            "1 Failed download:\n",
            "['ITWO']: YFPricesMissingError('$%ticker%: possibly delisted; No price data found  (1d 2013-12-31 -> 2023-12-31)')\n"
          ]
        },
        {
          "name": "stdout",
          "output_type": "stream",
          "text": [
            "$ITWO: possibly delisted; No price data found  (1d 2013-12-31 -> 2023-12-31)\n"
          ]
        },
        {
          "name": "stderr",
          "output_type": "stream",
          "text": [
            "[*********************100%%**********************]  1 of 1 completed\n",
            "\n",
            "1 Failed download:\n",
            "['PTCM']: YFTzMissingError('$%ticker%: possibly delisted; No timezone found')\n",
            "[*********************100%%**********************]  1 of 1 completed\n",
            "\n",
            "1 Failed download:\n",
            "['ABGX']: YFPricesMissingError('$%ticker%: possibly delisted; No price data found  (1d 2013-12-31 -> 2023-12-31)')\n",
            "[*********************100%%**********************]  1 of 1 completed\n",
            "\n",
            "1 Failed download:\n",
            "['BRCD']: YFPricesMissingError('$%ticker%: possibly delisted; No price data found  (1d 2013-12-31 -> 2023-12-31)')\n"
          ]
        },
        {
          "name": "stdout",
          "output_type": "stream",
          "text": [
            "$ABGX: possibly delisted; No price data found  (1d 2013-12-31 -> 2023-12-31)\n",
            "$BRCD: possibly delisted; No price data found  (1d 2013-12-31 -> 2023-12-31)\n"
          ]
        },
        {
          "name": "stderr",
          "output_type": "stream",
          "text": [
            "[*********************100%%**********************]  1 of 1 completed\n",
            "\n",
            "1 Failed download:\n",
            "['IMNX']: YFPricesMissingError('$%ticker%: possibly delisted; No price data found  (1d 2013-12-31 -> 2023-12-31)')\n"
          ]
        },
        {
          "name": "stdout",
          "output_type": "stream",
          "text": [
            "$IMNX: possibly delisted; No price data found  (1d 2013-12-31 -> 2023-12-31)\n"
          ]
        },
        {
          "name": "stderr",
          "output_type": "stream",
          "text": [
            "[*********************100%%**********************]  1 of 1 completed\n",
            "[*********************100%%**********************]  1 of 1 completed\n",
            "\n",
            "1 Failed download:\n",
            "['TECUA']: YFPricesMissingError('$%ticker%: possibly delisted; No price data found  (1d 2013-12-31 -> 2023-12-31)')\n",
            "[*********************100%%**********************]  1 of 1 completed\n",
            "\n",
            "1 Failed download:\n",
            "['NSCP']: YFPricesMissingError('$%ticker%: possibly delisted; No price data found  (1d 2013-12-31 -> 2023-12-31)')\n"
          ]
        },
        {
          "name": "stdout",
          "output_type": "stream",
          "text": [
            "$TECUA: possibly delisted; No price data found  (1d 2013-12-31 -> 2023-12-31)\n",
            "$NSCP: possibly delisted; No price data found  (1d 2013-12-31 -> 2023-12-31)\n"
          ]
        },
        {
          "name": "stderr",
          "output_type": "stream",
          "text": [
            "[*********************100%%**********************]  1 of 1 completed\n",
            "\n",
            "1 Failed download:\n",
            "['GIDL']: YFTzMissingError('$%ticker%: possibly delisted; No timezone found')\n",
            "[*********************100%%**********************]  1 of 1 completed\n",
            "\n",
            "1 Failed download:\n",
            "['CEPH']: YFPricesMissingError('$%ticker%: possibly delisted; No price data found  (1d 2013-12-31 -> 2023-12-31)')\n",
            "[*********************100%%**********************]  1 of 1 completed\n",
            "\n",
            "1 Failed download:\n",
            "['FMCN']: YFPricesMissingError('$%ticker%: possibly delisted; No price data found  (1d 2013-12-31 -> 2023-12-31)')\n"
          ]
        },
        {
          "name": "stdout",
          "output_type": "stream",
          "text": [
            "$CEPH: possibly delisted; No price data found  (1d 2013-12-31 -> 2023-12-31)\n",
            "$FMCN: possibly delisted; No price data found  (1d 2013-12-31 -> 2023-12-31)\n"
          ]
        },
        {
          "name": "stderr",
          "output_type": "stream",
          "text": [
            "[*********************100%%**********************]  1 of 1 completed\n",
            "\n",
            "1 Failed download:\n",
            "['STRZA']: YFPricesMissingError('$%ticker%: possibly delisted; No price data found  (1d 2013-12-31 -> 2023-12-31)')\n"
          ]
        },
        {
          "name": "stdout",
          "output_type": "stream",
          "text": [
            "$STRZA: possibly delisted; No price data found  (1d 2013-12-31 -> 2023-12-31)\n"
          ]
        },
        {
          "name": "stderr",
          "output_type": "stream",
          "text": [
            "[*********************100%%**********************]  1 of 1 completed\n",
            "[*********************100%%**********************]  1 of 1 completed\n",
            "\n",
            "1 Failed download:\n",
            "['SPLS']: YFPricesMissingError('$%ticker%: possibly delisted; No price data found  (1d 2013-12-31 -> 2023-12-31)')\n"
          ]
        },
        {
          "name": "stdout",
          "output_type": "stream",
          "text": [
            "$SPLS: possibly delisted; No price data found  (1d 2013-12-31 -> 2023-12-31)\n"
          ]
        },
        {
          "name": "stderr",
          "output_type": "stream",
          "text": [
            "[*********************100%%**********************]  1 of 1 completed\n",
            "\n",
            "1 Failed download:\n",
            "['DISCA']: YFTzMissingError('$%ticker%: possibly delisted; No timezone found')\n",
            "[*********************100%%**********************]  1 of 1 completed\n",
            "[*********************100%%**********************]  1 of 1 completed\n",
            "\n",
            "1 Failed download:\n",
            "['TCOMA']: YFPricesMissingError('$%ticker%: possibly delisted; No price data found  (1d 2013-12-31 -> 2023-12-31)')\n",
            "[*********************100%%**********************]  1 of 1 completed\n",
            "\n",
            "1 Failed download:\n",
            "['NVLS']: YFPricesMissingError('$%ticker%: possibly delisted; No price data found  (1d 2013-12-31 -> 2023-12-31)')\n"
          ]
        },
        {
          "name": "stdout",
          "output_type": "stream",
          "text": [
            "$TCOMA: possibly delisted; No price data found  (1d 2013-12-31 -> 2023-12-31)\n",
            "$NVLS: possibly delisted; No price data found  (1d 2013-12-31 -> 2023-12-31)\n"
          ]
        },
        {
          "name": "stderr",
          "output_type": "stream",
          "text": [
            "[*********************100%%**********************]  1 of 1 completed\n",
            "[*********************100%%**********************]  1 of 1 completed\n",
            "[*********************100%%**********************]  1 of 1 completed\n",
            "\n",
            "1 Failed download:\n",
            "['WLL']: YFTzMissingError('$%ticker%: possibly delisted; No timezone found')\n",
            "[*********************100%%**********************]  1 of 1 completed\n",
            "[*********************100%%**********************]  1 of 1 completed\n",
            "[*********************100%%**********************]  1 of 1 completed\n",
            "[*********************100%%**********************]  1 of 1 completed\n",
            "\n",
            "1 Failed download:\n",
            "['APOL']: YFPricesMissingError('$%ticker%: possibly delisted; No price data found  (1d 2013-12-31 -> 2023-12-31)')\n"
          ]
        },
        {
          "name": "stdout",
          "output_type": "stream",
          "text": [
            "$APOL: possibly delisted; No price data found  (1d 2013-12-31 -> 2023-12-31)\n"
          ]
        },
        {
          "name": "stderr",
          "output_type": "stream",
          "text": [
            "[*********************100%%**********************]  1 of 1 completed\n",
            "[*********************100%%**********************]  1 of 1 completed\n",
            "[*********************100%%**********************]  1 of 1 completed\n",
            "\n",
            "1 Failed download:\n",
            "['GTW']: YFPricesMissingError('$%ticker%: possibly delisted; No price data found  (1d 2013-12-31 -> 2023-12-31)')\n"
          ]
        },
        {
          "name": "stdout",
          "output_type": "stream",
          "text": [
            "$GTW: possibly delisted; No price data found  (1d 2013-12-31 -> 2023-12-31)\n"
          ]
        },
        {
          "name": "stderr",
          "output_type": "stream",
          "text": [
            "[*********************100%%**********************]  1 of 1 completed\n",
            "\n",
            "1 Failed download:\n",
            "['CELG']: YFTzMissingError('$%ticker%: possibly delisted; No timezone found')\n",
            "[*********************100%%**********************]  1 of 1 completed\n",
            "\n",
            "1 Failed download:\n",
            "['XMSR']: YFPricesMissingError('$%ticker%: possibly delisted; No price data found  (1d 2013-12-31 -> 2023-12-31)')\n",
            "[*********************100%%**********************]  1 of 1 completed\n",
            "\n",
            "1 Failed download:\n",
            "['AKLM']: YFPricesMissingError('$%ticker%: possibly delisted; No price data found  (1d 2013-12-31 -> 2023-12-31)')\n"
          ]
        },
        {
          "name": "stdout",
          "output_type": "stream",
          "text": [
            "$XMSR: possibly delisted; No price data found  (1d 2013-12-31 -> 2023-12-31)\n",
            "$AKLM: possibly delisted; No price data found  (1d 2013-12-31 -> 2023-12-31)\n"
          ]
        },
        {
          "name": "stderr",
          "output_type": "stream",
          "text": [
            "[*********************100%%**********************]  1 of 1 completed\n",
            "\n",
            "1 Failed download:\n",
            "['USRX']: YFTzMissingError('$%ticker%: possibly delisted; No timezone found')\n",
            "[*********************100%%**********************]  1 of 1 completed\n",
            "\n",
            "1 Failed download:\n",
            "['STEI']: YFPricesMissingError('$%ticker%: possibly delisted; No price data found  (1d 2013-12-31 -> 2023-12-31)')\n",
            "[*********************100%%**********************]  1 of 1 completed\n",
            "\n",
            "1 Failed download:\n",
            "['LWIN']: YFPricesMissingError('$%ticker%: possibly delisted; No price data found  (1d 2013-12-31 -> 2023-12-31)')\n"
          ]
        },
        {
          "name": "stdout",
          "output_type": "stream",
          "text": [
            "$STEI: possibly delisted; No price data found  (1d 2013-12-31 -> 2023-12-31)\n",
            "$LWIN: possibly delisted; No price data found  (1d 2013-12-31 -> 2023-12-31)\n"
          ]
        },
        {
          "name": "stderr",
          "output_type": "stream",
          "text": [
            "[*********************100%%**********************]  1 of 1 completed\n",
            "[*********************100%%**********************]  1 of 1 completed\n",
            "\n",
            "1 Failed download:\n",
            "['ENDP']: YFInvalidPeriodError(\"%ticker%: Period 'max' is invalid, must be one of ['1d', '5d']\")\n",
            "[*********************100%%**********************]  1 of 1 completed\n",
            "\n",
            "1 Failed download:\n",
            "['RATL']: YFPricesMissingError('$%ticker%: possibly delisted; No price data found  (1d 2013-12-31 -> 2023-12-31)')\n"
          ]
        },
        {
          "name": "stdout",
          "output_type": "stream",
          "text": [
            "$RATL: possibly delisted; No price data found  (1d 2013-12-31 -> 2023-12-31)\n"
          ]
        },
        {
          "name": "stderr",
          "output_type": "stream",
          "text": [
            "[*********************100%%**********************]  1 of 1 completed\n",
            "[*********************100%%**********************]  1 of 1 completed\n",
            "[*********************100%%**********************]  1 of 1 completed\n",
            "\n",
            "1 Failed download:\n",
            "['NUAN']: YFTzMissingError('$%ticker%: possibly delisted; No timezone found')\n",
            "[*********************100%%**********************]  1 of 1 completed\n",
            "[*********************100%%**********************]  1 of 1 completed\n",
            "\n",
            "1 Failed download:\n",
            "['MERQ']: YFPricesMissingError('$%ticker%: possibly delisted; No price data found  (1d 2013-12-31 -> 2023-12-31)')\n"
          ]
        },
        {
          "name": "stdout",
          "output_type": "stream",
          "text": [
            "$MERQ: possibly delisted; No price data found  (1d 2013-12-31 -> 2023-12-31)\n"
          ]
        },
        {
          "name": "stderr",
          "output_type": "stream",
          "text": [
            "[*********************100%%**********************]  1 of 1 completed\n",
            "[*********************100%%**********************]  1 of 1 completed\n",
            "[*********************100%%**********************]  1 of 1 completed\n",
            "[*********************100%%**********************]  1 of 1 completed\n",
            "[*********************100%%**********************]  1 of 1 completed\n",
            "[*********************100%%**********************]  1 of 1 completed\n",
            "[*********************100%%**********************]  1 of 1 completed\n",
            "[*********************100%%**********************]  1 of 1 completed\n",
            "[*********************100%%**********************]  1 of 1 completed\n",
            "[*********************100%%**********************]  1 of 1 completed\n",
            "\n",
            "1 Failed download:\n",
            "['INEL']: YFTzMissingError('$%ticker%: possibly delisted; No timezone found')\n",
            "[*********************100%%**********************]  1 of 1 completed\n",
            "\n",
            "1 Failed download:\n",
            "['HGSI']: YFPricesMissingError('$%ticker%: possibly delisted; No price data found  (1d 2013-12-31 -> 2023-12-31)')\n"
          ]
        },
        {
          "name": "stdout",
          "output_type": "stream",
          "text": [
            "$HGSI: possibly delisted; No price data found  (1d 2013-12-31 -> 2023-12-31)\n"
          ]
        },
        {
          "name": "stderr",
          "output_type": "stream",
          "text": [
            "[*********************100%%**********************]  1 of 1 completed\n",
            "\n",
            "1 Failed download:\n",
            "['USHC']: YFTzMissingError('$%ticker%: possibly delisted; No timezone found')\n",
            "[*********************100%%**********************]  1 of 1 completed\n",
            "\n",
            "1 Failed download:\n",
            "['LGNT']: YFTzMissingError('$%ticker%: possibly delisted; No timezone found')\n",
            "[*********************100%%**********************]  1 of 1 completed\n",
            "\n",
            "1 Failed download:\n",
            "['SDLI']: YFPricesMissingError('$%ticker%: possibly delisted; No price data found  (1d 2013-12-31 -> 2023-12-31)')\n",
            "[*********************100%%**********************]  1 of 1 completed\n",
            "\n",
            "1 Failed download:\n",
            "['SIAL']: YFPricesMissingError('$%ticker%: possibly delisted; No price data found  (1d 2013-12-31 -> 2023-12-31)')\n"
          ]
        },
        {
          "name": "stdout",
          "output_type": "stream",
          "text": [
            "$SDLI: possibly delisted; No price data found  (1d 2013-12-31 -> 2023-12-31)\n",
            "$SIAL: possibly delisted; No price data found  (1d 2013-12-31 -> 2023-12-31)\n"
          ]
        },
        {
          "name": "stderr",
          "output_type": "stream",
          "text": [
            "[*********************100%%**********************]  1 of 1 completed\n",
            "\n",
            "1 Failed download:\n",
            "['JDSU']: YFPricesMissingError('$%ticker%: possibly delisted; No price data found  (1d 2013-12-31 -> 2023-12-31)')\n"
          ]
        },
        {
          "name": "stdout",
          "output_type": "stream",
          "text": [
            "$JDSU: possibly delisted; No price data found  (1d 2013-12-31 -> 2023-12-31)\n"
          ]
        },
        {
          "name": "stderr",
          "output_type": "stream",
          "text": [
            "[*********************100%%**********************]  1 of 1 completed\n",
            "[*********************100%%**********************]  1 of 1 completed\n",
            "[*********************100%%**********************]  1 of 1 completed\n",
            "[*********************100%%**********************]  1 of 1 completed\n",
            "[*********************100%%**********************]  1 of 1 completed\n",
            "\n",
            "1 Failed download:\n",
            "['LLTC']: YFPricesMissingError('$%ticker%: possibly delisted; No price data found  (1d 2013-12-31 -> 2023-12-31)')\n",
            "[*********************100%%**********************]  1 of 1 completed"
          ]
        },
        {
          "name": "stdout",
          "output_type": "stream",
          "text": [
            "$LLTC: possibly delisted; No price data found  (1d 2013-12-31 -> 2023-12-31)\n"
          ]
        },
        {
          "name": "stderr",
          "output_type": "stream",
          "text": [
            "\n",
            "[*********************100%%**********************]  1 of 1 completed\n",
            "\n",
            "1 Failed download:\n",
            "['PHSYB']: YFPricesMissingError('$%ticker%: possibly delisted; No price data found  (1d 2013-12-31 -> 2023-12-31)')\n"
          ]
        },
        {
          "name": "stdout",
          "output_type": "stream",
          "text": [
            "$PHSYB: possibly delisted; No price data found  (1d 2013-12-31 -> 2023-12-31)\n"
          ]
        },
        {
          "name": "stderr",
          "output_type": "stream",
          "text": [
            "[*********************100%%**********************]  1 of 1 completed\n",
            "[*********************100%%**********************]  1 of 1 completed\n",
            "\n",
            "1 Failed download:\n",
            "['BVSN']: YFTzMissingError('$%ticker%: possibly delisted; No timezone found')\n",
            "[*********************100%%**********************]  1 of 1 completed\n",
            "[*********************100%%**********************]  1 of 1 completed\n",
            "\n",
            "1 Failed download:\n",
            "['EFII']: YFTzMissingError('$%ticker%: possibly delisted; No timezone found')\n",
            "[*********************100%%**********************]  1 of 1 completed\n",
            "\n",
            "1 Failed download:\n",
            "['CTXS']: YFTzMissingError('$%ticker%: possibly delisted; No timezone found')\n",
            "[*********************100%%**********************]  1 of 1 completed\n",
            "\n",
            "1 Failed download:\n",
            "['ATVI']: YFTzMissingError('$%ticker%: possibly delisted; No timezone found')\n",
            "[*********************100%%**********************]  1 of 1 completed\n",
            "\n",
            "1 Failed download:\n",
            "['BBBY']: YFTzMissingError('$%ticker%: possibly delisted; No timezone found')\n",
            "[*********************100%%**********************]  1 of 1 completed\n",
            "\n",
            "1 Failed download:\n",
            "['VIAB']: YFTzMissingError('$%ticker%: possibly delisted; No timezone found')\n",
            "[*********************100%%**********************]  1 of 1 completed\n",
            "\n",
            "1 Failed download:\n",
            "['CYTC']: YFPricesMissingError('$%ticker%: possibly delisted; No price data found  (1d 2013-12-31 -> 2023-12-31)')\n",
            "[*********************100%%**********************]  1 of 1 completed\n"
          ]
        },
        {
          "name": "stdout",
          "output_type": "stream",
          "text": [
            "$CYTC: possibly delisted; No price data found  (1d 2013-12-31 -> 2023-12-31)\n"
          ]
        },
        {
          "name": "stderr",
          "output_type": "stream",
          "text": [
            "[*********************100%%**********************]  1 of 1 completed\n",
            "[*********************100%%**********************]  1 of 1 completed\n",
            "[*********************100%%**********************]  1 of 1 completed\n",
            "\n",
            "1 Failed download:\n",
            "['ISIL']: YFPricesMissingError('$%ticker%: possibly delisted; No price data found  (1d 2013-12-31 -> 2023-12-31)')\n"
          ]
        },
        {
          "name": "stdout",
          "output_type": "stream",
          "text": [
            "$ISIL: possibly delisted; No price data found  (1d 2013-12-31 -> 2023-12-31)\n"
          ]
        },
        {
          "name": "stderr",
          "output_type": "stream",
          "text": [
            "[*********************100%%**********************]  1 of 1 completed\n",
            "[*********************100%%**********************]  1 of 1 completed\n",
            "[*********************100%%**********************]  1 of 1 completed\n",
            "\n",
            "1 Failed download:\n",
            "['ANDW']: YFPricesMissingError('$%ticker%: possibly delisted; No price data found  (1d 2013-12-31 -> 2023-12-31)')\n",
            "[*********************100%%**********************]  1 of 1 completed"
          ]
        },
        {
          "name": "stdout",
          "output_type": "stream",
          "text": [
            "$ANDW: possibly delisted; No price data found  (1d 2013-12-31 -> 2023-12-31)\n"
          ]
        },
        {
          "name": "stderr",
          "output_type": "stream",
          "text": [
            "\n",
            "[*********************100%%**********************]  1 of 1 completed\n",
            "\n",
            "1 Failed download:\n",
            "['APCC']: YFPricesMissingError('$%ticker%: possibly delisted; No price data found  (1d 2013-12-31 -> 2023-12-31)')\n"
          ]
        },
        {
          "name": "stdout",
          "output_type": "stream",
          "text": [
            "$APCC: possibly delisted; No price data found  (1d 2013-12-31 -> 2023-12-31)\n"
          ]
        },
        {
          "name": "stderr",
          "output_type": "stream",
          "text": [
            "[*********************100%%**********************]  1 of 1 completed\n",
            "[*********************100%%**********************]  1 of 1 completed\n",
            "\n",
            "1 Failed download:\n",
            "['BOBE']: YFPricesMissingError('$%ticker%: possibly delisted; No price data found  (1d 2013-12-31 -> 2023-12-31)')\n",
            "[*********************100%%**********************]  1 of 1 completed\n",
            "\n",
            "1 Failed download:\n",
            "['TLAB']: YFPricesMissingError('$%ticker%: possibly delisted; No price data found  (1d 2013-12-31 -> 2023-12-31)')\n"
          ]
        },
        {
          "name": "stdout",
          "output_type": "stream",
          "text": [
            "$BOBE: possibly delisted; No price data found  (1d 2013-12-31 -> 2023-12-31)\n",
            "$TLAB: possibly delisted; No price data found  (1d 2013-12-31 -> 2023-12-31)\n"
          ]
        },
        {
          "name": "stderr",
          "output_type": "stream",
          "text": [
            "[*********************100%%**********************]  1 of 1 completed\n",
            "[*********************100%%**********************]  1 of 1 completed\n",
            "\n",
            "1 Failed download:\n",
            "['SSCCQ']: YFTzMissingError('$%ticker%: possibly delisted; No timezone found')\n",
            "[*********************100%%**********************]  1 of 1 completed\n",
            "\n",
            "1 Failed download:\n",
            "['RNWK']: YFTzMissingError('$%ticker%: possibly delisted; No timezone found')\n",
            "[*********************100%%**********************]  1 of 1 completed\n",
            "[*********************100%%**********************]  1 of 1 completed\n",
            "[*********************100%%**********************]  1 of 1 completed\n",
            "[*********************100%%**********************]  1 of 1 completed\n",
            "\n",
            "1 Failed download:\n",
            "['XLNX']: YFTzMissingError('$%ticker%: possibly delisted; No timezone found')\n",
            "[*********************100%%**********************]  1 of 1 completed\n",
            "[*********************100%%**********************]  1 of 1 completed\n",
            "[*********************100%%**********************]  1 of 1 completed\n",
            "[*********************100%%**********************]  1 of 1 completed\n",
            "\n",
            "1 Failed download:\n",
            "['GMST']: YFPricesMissingError('$%ticker%: possibly delisted; No price data found  (1d 2013-12-31 -> 2023-12-31)')\n",
            "[*********************100%%**********************]  1 of 1 completed\n",
            "\n",
            "1 Failed download:\n",
            "['DZB']: YFInvalidPeriodError(\"%ticker%: Period 'max' is invalid, must be one of ['1d', '5d']\")\n"
          ]
        },
        {
          "name": "stdout",
          "output_type": "stream",
          "text": [
            "$GMST: possibly delisted; No price data found  (1d 2013-12-31 -> 2023-12-31)\n"
          ]
        },
        {
          "name": "stderr",
          "output_type": "stream",
          "text": [
            "[*********************100%%**********************]  1 of 1 completed\n",
            "\n",
            "1 Failed download:\n",
            "['RWIN']: YFTzMissingError('$%ticker%: possibly delisted; No timezone found')\n",
            "[*********************100%%**********************]  1 of 1 completed\n",
            "[*********************100%%**********************]  1 of 1 completed\n",
            "[*********************100%%**********************]  1 of 1 completed\n",
            "\n",
            "1 Failed download:\n",
            "['ACCOB']: YFPricesMissingError('$%ticker%: possibly delisted; No price data found  (1d 2013-12-31 -> 2023-12-31)')\n"
          ]
        },
        {
          "name": "stdout",
          "output_type": "stream",
          "text": [
            "$ACCOB: possibly delisted; No price data found  (1d 2013-12-31 -> 2023-12-31)\n"
          ]
        },
        {
          "name": "stderr",
          "output_type": "stream",
          "text": [
            "[*********************100%%**********************]  1 of 1 completed\n",
            "[*********************100%%**********************]  1 of 1 completed\n",
            "\n",
            "1 Failed download:\n",
            "['DTV']: YFTzMissingError('$%ticker%: possibly delisted; No timezone found')\n",
            "[*********************100%%**********************]  1 of 1 completed\n",
            "\n",
            "1 Failed download:\n",
            "['RDRT']: YFPricesMissingError('$%ticker%: possibly delisted; No price data found  (1d 2013-12-31 -> 2023-12-31)')\n",
            "[*********************100%%**********************]  1 of 1 completed\n",
            "\n",
            "1 Failed download:\n",
            "['SEBL']: YFPricesMissingError('$%ticker%: possibly delisted; No price data found  (1d 2013-12-31 -> 2023-12-31)')\n"
          ]
        },
        {
          "name": "stdout",
          "output_type": "stream",
          "text": [
            "$RDRT: possibly delisted; No price data found  (1d 2013-12-31 -> 2023-12-31)\n",
            "$SEBL: possibly delisted; No price data found  (1d 2013-12-31 -> 2023-12-31)\n"
          ]
        },
        {
          "name": "stderr",
          "output_type": "stream",
          "text": [
            "[*********************100%%**********************]  1 of 1 completed\n",
            "\n",
            "1 Failed download:\n",
            "['STJ']: YFPricesMissingError('$%ticker%: possibly delisted; No price data found  (1d 2013-12-31 -> 2023-12-31)')\n"
          ]
        },
        {
          "name": "stdout",
          "output_type": "stream",
          "text": [
            "$STJ: possibly delisted; No price data found  (1d 2013-12-31 -> 2023-12-31)\n"
          ]
        },
        {
          "name": "stderr",
          "output_type": "stream",
          "text": [
            "[*********************100%%**********************]  1 of 1 completed\n",
            "[*********************100%%**********************]  1 of 1 completed\n",
            "\n",
            "1 Failed download:\n",
            "['SMLS']: YFTzMissingError('$%ticker%: possibly delisted; No timezone found')\n",
            "[*********************100%%**********************]  1 of 1 completed\n",
            "\n",
            "1 Failed download:\n",
            "['VMED']: YFPricesMissingError('$%ticker%: possibly delisted; No price data found  (1d 2013-12-31 -> 2023-12-31)')\n"
          ]
        },
        {
          "name": "stdout",
          "output_type": "stream",
          "text": [
            "$VMED: possibly delisted; No price data found  (1d 2013-12-31 -> 2023-12-31)\n"
          ]
        },
        {
          "name": "stderr",
          "output_type": "stream",
          "text": [
            "[*********************100%%**********************]  1 of 1 completed\n",
            "[*********************100%%**********************]  1 of 1 completed\n",
            "[*********************100%%**********************]  1 of 1 completed\n",
            "[*********************100%%**********************]  1 of 1 completed\n",
            "\n",
            "1 Failed download:\n",
            "['LGTO']: YFTzMissingError('$%ticker%: possibly delisted; No timezone found')\n",
            "[*********************100%%**********************]  1 of 1 completed\n",
            "\n",
            "1 Failed download:\n",
            "['IDTI']: YFTzMissingError('$%ticker%: possibly delisted; No timezone found')\n",
            "[*********************100%%**********************]  1 of 1 completed\n",
            "\n",
            "1 Failed download:\n",
            "['RFMD']: YFPricesMissingError('$%ticker%: possibly delisted; No price data found  (1d 2013-12-31 -> 2023-12-31)')\n"
          ]
        },
        {
          "name": "stdout",
          "output_type": "stream",
          "text": [
            "$RFMD: possibly delisted; No price data found  (1d 2013-12-31 -> 2023-12-31)\n"
          ]
        },
        {
          "name": "stderr",
          "output_type": "stream",
          "text": [
            "[*********************100%%**********************]  1 of 1 completed\n",
            "[*********************100%%**********************]  1 of 1 completed\n",
            "[*********************100%%**********************]  1 of 1 completed\n",
            "[*********************100%%**********************]  1 of 1 completed\n",
            "\n",
            "1 Failed download:\n",
            "['ARBA']: YFPricesMissingError('$%ticker%: possibly delisted; No price data found  (1d 2013-12-31 -> 2023-12-31)')\n",
            "[*********************100%%**********************]  1 of 1 completed\n",
            "\n",
            "1 Failed download:\n",
            "['FHCC']: YFPricesMissingError('$%ticker%: possibly delisted; No price data found  (1d 2013-12-31 -> 2023-12-31)')\n"
          ]
        },
        {
          "name": "stdout",
          "output_type": "stream",
          "text": [
            "$ARBA: possibly delisted; No price data found  (1d 2013-12-31 -> 2023-12-31)\n",
            "$FHCC: possibly delisted; No price data found  (1d 2013-12-31 -> 2023-12-31)\n"
          ]
        },
        {
          "name": "stderr",
          "output_type": "stream",
          "text": [
            "[*********************100%%**********************]  1 of 1 completed\n",
            "[*********************100%%**********************]  1 of 1 completed\n",
            "[*********************100%%**********************]  1 of 1 completed\n",
            "\n",
            "1 Failed download:\n",
            "['ASCL']: YFPricesMissingError('$%ticker%: possibly delisted; No price data found  (1d 2013-12-31 -> 2023-12-31)')\n",
            "[*********************100%%**********************]  1 of 1 completed\n",
            "\n",
            "1 Failed download:\n",
            "['FWLT']: YFPricesMissingError('$%ticker%: possibly delisted; No price data found  (1d 2013-12-31 -> 2023-12-31)')\n"
          ]
        },
        {
          "name": "stdout",
          "output_type": "stream",
          "text": [
            "$ASCL: possibly delisted; No price data found  (1d 2013-12-31 -> 2023-12-31)\n",
            "$FWLT: possibly delisted; No price data found  (1d 2013-12-31 -> 2023-12-31)\n"
          ]
        },
        {
          "name": "stderr",
          "output_type": "stream",
          "text": [
            "[*********************100%%**********************]  1 of 1 completed\n",
            "[*********************100%%**********************]  1 of 1 completed\n",
            "[*********************100%%**********************]  1 of 1 completed\n",
            "\n",
            "1 Failed download:\n",
            "['SNDK']: YFPricesMissingError('$%ticker%: possibly delisted; No price data found  (1d 2013-12-31 -> 2023-12-31)')\n"
          ]
        },
        {
          "name": "stdout",
          "output_type": "stream",
          "text": [
            "$SNDK: possibly delisted; No price data found  (1d 2013-12-31 -> 2023-12-31)\n"
          ]
        },
        {
          "name": "stderr",
          "output_type": "stream",
          "text": [
            "[*********************100%%**********************]  1 of 1 completed\n",
            "\n",
            "1 Failed download:\n",
            "['MCLD']: YFInvalidPeriodError(\"%ticker%: Period 'max' is invalid, must be one of ['1d', '5d']\")\n",
            "[*********************100%%**********************]  1 of 1 completed\n",
            "\n",
            "1 Failed download:\n",
            "['LMCA']: YFPricesMissingError('$%ticker%: possibly delisted; No price data found  (1d 2013-12-31 -> 2023-12-31)')\n",
            "[*********************100%%**********************]  1 of 1 completed\n",
            "\n",
            "1 Failed download:\n",
            "['AMCC']: YFPricesMissingError('$%ticker%: possibly delisted; No price data found  (1d 2013-12-31 -> 2023-12-31)')\n"
          ]
        },
        {
          "name": "stdout",
          "output_type": "stream",
          "text": [
            "$LMCA: possibly delisted; No price data found  (1d 2013-12-31 -> 2023-12-31)\n",
            "$AMCC: possibly delisted; No price data found  (1d 2013-12-31 -> 2023-12-31)\n"
          ]
        },
        {
          "name": "stderr",
          "output_type": "stream",
          "text": [
            "[*********************100%%**********************]  1 of 1 completed\n",
            "\n",
            "1 Failed download:\n",
            "['MMED']: YFPricesMissingError('$%ticker%: possibly delisted; No price data found  (1d 2013-12-31 -> 2023-12-31)')\n",
            "[*********************100%%**********************]  1 of 1 completed\n",
            "\n",
            "1 Failed download:\n",
            "['WCLX']: YFPricesMissingError('$%ticker%: possibly delisted; No price data found  (1d 2013-12-31 -> 2023-12-31)')\n"
          ]
        },
        {
          "name": "stdout",
          "output_type": "stream",
          "text": [
            "$MMED: possibly delisted; No price data found  (1d 2013-12-31 -> 2023-12-31)\n",
            "$WCLX: possibly delisted; No price data found  (1d 2013-12-31 -> 2023-12-31)\n"
          ]
        },
        {
          "name": "stderr",
          "output_type": "stream",
          "text": [
            "[*********************100%%**********************]  1 of 1 completed\n",
            "[*********************100%%**********************]  1 of 1 completed\n",
            "[*********************100%%**********************]  1 of 1 completed\n",
            "[*********************100%%**********************]  1 of 1 completed\n",
            "[*********************100%%**********************]  1 of 1 completed\n",
            "\n",
            "1 Failed download:\n",
            "['AMFM']: YFPricesMissingError('$%ticker%: possibly delisted; No price data found  (1d 2013-12-31 -> 2023-12-31)')\n"
          ]
        },
        {
          "name": "stdout",
          "output_type": "stream",
          "text": [
            "$AMFM: possibly delisted; No price data found  (1d 2013-12-31 -> 2023-12-31)\n"
          ]
        },
        {
          "name": "stderr",
          "output_type": "stream",
          "text": [
            "[*********************100%%**********************]  1 of 1 completed\n",
            "[*********************100%%**********************]  1 of 1 completed\n",
            "\n",
            "1 Failed download:\n",
            "['NIHD']: YFTzMissingError('$%ticker%: possibly delisted; No timezone found')\n",
            "[*********************100%%**********************]  1 of 1 completed\n",
            "[*********************100%%**********************]  1 of 1 completed\n",
            "[*********************100%%**********************]  1 of 1 completed\n",
            "[*********************100%%**********************]  1 of 1 completed\n",
            "[*********************100%%**********************]  1 of 1 completed\n",
            "\n",
            "1 Failed download:\n",
            "['BRCM']: YFPricesMissingError('$%ticker%: possibly delisted; No price data found  (1d 2013-12-31 -> 2023-12-31)')\n",
            "[*********************100%%**********************]  1 of 1 completed\n",
            "\n",
            "1 Failed download:\n",
            "['ICOS']: YFPricesMissingError('$%ticker%: possibly delisted; No price data found  (1d 2013-12-31 -> 2023-12-31)')\n"
          ]
        },
        {
          "name": "stdout",
          "output_type": "stream",
          "text": [
            "$BRCM: possibly delisted; No price data found  (1d 2013-12-31 -> 2023-12-31)\n",
            "$ICOS: possibly delisted; No price data found  (1d 2013-12-31 -> 2023-12-31)\n"
          ]
        },
        {
          "name": "stderr",
          "output_type": "stream",
          "text": [
            "[*********************100%%**********************]  1 of 1 completed\n",
            "[*********************100%%**********************]  1 of 1 completed\n",
            "[*********************100%%**********************]  1 of 1 completed\n",
            "\n",
            "1 Failed download:\n",
            "['WCRX']: YFPricesMissingError('$%ticker%: possibly delisted; No price data found  (1d 2013-12-31 -> 2023-12-31)')\n"
          ]
        },
        {
          "name": "stdout",
          "output_type": "stream",
          "text": [
            "$WCRX: possibly delisted; No price data found  (1d 2013-12-31 -> 2023-12-31)\n"
          ]
        },
        {
          "name": "stderr",
          "output_type": "stream",
          "text": [
            "[*********************100%%**********************]  1 of 1 completed\n",
            "[*********************100%%**********************]  1 of 1 completed\n",
            "\n",
            "1 Failed download:\n",
            "['BRNO']: YFTzMissingError('$%ticker%: possibly delisted; No timezone found')\n",
            "[*********************100%%**********************]  1 of 1 completed\n",
            "\n",
            "1 Failed download:\n",
            "['PHYC']: YFPricesMissingError('$%ticker%: possibly delisted; No price data found  (1d 2013-12-31 -> 2023-12-31)')\n"
          ]
        },
        {
          "name": "stdout",
          "output_type": "stream",
          "text": [
            "$PHYC: possibly delisted; No price data found  (1d 2013-12-31 -> 2023-12-31)\n"
          ]
        },
        {
          "name": "stderr",
          "output_type": "stream",
          "text": [
            "[*********************100%%**********************]  1 of 1 completed\n",
            "[*********************100%%**********************]  1 of 1 completed\n",
            "\n",
            "1 Failed download:\n",
            "['QVCN']: YFTzMissingError('$%ticker%: possibly delisted; No timezone found')\n",
            "[*********************100%%**********************]  1 of 1 completed\n",
            "\n",
            "1 Failed download:\n",
            "['PMCS']: YFPricesMissingError('$%ticker%: possibly delisted; No price data found  (1d 2013-12-31 -> 2023-12-31)')\n"
          ]
        },
        {
          "name": "stdout",
          "output_type": "stream",
          "text": [
            "$PMCS: possibly delisted; No price data found  (1d 2013-12-31 -> 2023-12-31)\n"
          ]
        },
        {
          "name": "stderr",
          "output_type": "stream",
          "text": [
            "[*********************100%%**********************]  1 of 1 completed\n",
            "[*********************100%%**********************]  1 of 1 completed\n",
            "[*********************100%%**********************]  1 of 1 completed\n",
            "[*********************100%%**********************]  1 of 1 completed\n",
            "[*********************100%%**********************]  1 of 1 completed\n",
            "[*********************100%%**********************]  1 of 1 completed\n",
            "[*********************100%%**********************]  1 of 1 completed\n",
            "[*********************100%%**********************]  1 of 1 completed\n",
            "[*********************100%%**********************]  1 of 1 completed\n",
            "\n",
            "1 Failed download:\n",
            "['SEPR']: YFPricesMissingError('$%ticker%: possibly delisted; No price data found  (1d 2013-12-31 -> 2023-12-31)')\n"
          ]
        },
        {
          "name": "stdout",
          "output_type": "stream",
          "text": [
            "$SEPR: possibly delisted; No price data found  (1d 2013-12-31 -> 2023-12-31)\n"
          ]
        },
        {
          "name": "stderr",
          "output_type": "stream",
          "text": [
            "[*********************100%%**********************]  1 of 1 completed\n",
            "\n",
            "1 Failed download:\n",
            "['VSTR']: YFTzMissingError('$%ticker%: possibly delisted; No timezone found')\n",
            "[*********************100%%**********************]  1 of 1 completed\n",
            "\n",
            "1 Failed download:\n",
            "['VKNG']: YFPricesMissingError('$%ticker%: possibly delisted; No price data found  (1d 2013-12-31 -> 2023-12-31)')\n"
          ]
        },
        {
          "name": "stdout",
          "output_type": "stream",
          "text": [
            "$VKNG: possibly delisted; No price data found  (1d 2013-12-31 -> 2023-12-31)\n"
          ]
        },
        {
          "name": "stderr",
          "output_type": "stream",
          "text": [
            "[*********************100%%**********************]  1 of 1 completed\n",
            "[*********************100%%**********************]  1 of 1 completed\n",
            "[*********************100%%**********************]  1 of 1 completed\n",
            "\n",
            "1 Failed download:\n",
            "['LCOS']: YFPricesMissingError('$%ticker%: possibly delisted; No price data found  (1d 2013-12-31 -> 2023-12-31)')\n"
          ]
        },
        {
          "name": "stdout",
          "output_type": "stream",
          "text": [
            "$LCOS: possibly delisted; No price data found  (1d 2013-12-31 -> 2023-12-31)\n"
          ]
        },
        {
          "name": "stderr",
          "output_type": "stream",
          "text": [
            "[*********************100%%**********************]  1 of 1 completed\n",
            "\n",
            "1 Failed download:\n",
            "['RHT']: YFTzMissingError('$%ticker%: possibly delisted; No timezone found')\n",
            "[*********************100%%**********************]  1 of 1 completed\n",
            "\n",
            "1 Failed download:\n",
            "['RXSD']: YFPricesMissingError('$%ticker%: possibly delisted; No price data found  (1d 2013-12-31 -> 2023-12-31)')\n"
          ]
        },
        {
          "name": "stdout",
          "output_type": "stream",
          "text": [
            "$RXSD: possibly delisted; No price data found  (1d 2013-12-31 -> 2023-12-31)\n"
          ]
        },
        {
          "name": "stderr",
          "output_type": "stream",
          "text": [
            "[*********************100%%**********************]  1 of 1 completed\n",
            "[*********************100%%**********************]  1 of 1 completed\n",
            "\n",
            "1 Failed download:\n",
            "['NXTL']: YFPricesMissingError('$%ticker%: possibly delisted; No price data found  (1d 2013-12-31 -> 2023-12-31)')\n",
            "[*********************100%%**********************]  1 of 1 completed\n",
            "\n",
            "1 Failed download:\n",
            "['GNCI']: YFPricesMissingError('$%ticker%: possibly delisted; No price data found  (1d 2013-12-31 -> 2023-12-31)')\n"
          ]
        },
        {
          "name": "stdout",
          "output_type": "stream",
          "text": [
            "$NXTL: possibly delisted; No price data found  (1d 2013-12-31 -> 2023-12-31)\n",
            "$GNCI: possibly delisted; No price data found  (1d 2013-12-31 -> 2023-12-31)\n"
          ]
        },
        {
          "name": "stderr",
          "output_type": "stream",
          "text": [
            "[*********************100%%**********************]  1 of 1 completed\n",
            "\n",
            "1 Failed download:\n",
            "['VCELA']: YFPricesMissingError('$%ticker%: possibly delisted; No price data found  (1d 2013-12-31 -> 2023-12-31)')\n"
          ]
        },
        {
          "name": "stdout",
          "output_type": "stream",
          "text": [
            "$VCELA: possibly delisted; No price data found  (1d 2013-12-31 -> 2023-12-31)\n"
          ]
        },
        {
          "name": "stderr",
          "output_type": "stream",
          "text": [
            "[*********************100%%**********************]  1 of 1 completed\n",
            "[*********************100%%**********************]  1 of 1 completed\n",
            "\n",
            "1 Failed download:\n",
            "['Q']: YFPricesMissingError('$%ticker%: possibly delisted; No price data found  (1d 2013-12-31 -> 2023-12-31)')\n"
          ]
        },
        {
          "name": "stdout",
          "output_type": "stream",
          "text": [
            "$Q: possibly delisted; No price data found  (1d 2013-12-31 -> 2023-12-31)\n"
          ]
        },
        {
          "name": "stderr",
          "output_type": "stream",
          "text": [
            "[*********************100%%**********************]  1 of 1 completed\n",
            "\n",
            "1 Failed download:\n",
            "['LINB']: YFTzMissingError('$%ticker%: possibly delisted; No timezone found')\n",
            "[*********************100%%**********************]  1 of 1 completed\n",
            "[*********************100%%**********************]  1 of 1 completed\n",
            "\n",
            "1 Failed download:\n",
            "['ADRX']: YFPricesMissingError('$%ticker%: possibly delisted; No price data found  (1d 2013-12-31 -> 2023-12-31)')\n"
          ]
        },
        {
          "name": "stdout",
          "output_type": "stream",
          "text": [
            "$ADRX: possibly delisted; No price data found  (1d 2013-12-31 -> 2023-12-31)\n"
          ]
        },
        {
          "name": "stderr",
          "output_type": "stream",
          "text": [
            "[*********************100%%**********************]  1 of 1 completed\n",
            "[*********************100%%**********************]  1 of 1 completed\n",
            "\n",
            "1 Failed download:\n",
            "['WFM']: YFPricesMissingError('$%ticker%: possibly delisted; No price data found  (1d 2013-12-31 -> 2023-12-31)')\n"
          ]
        },
        {
          "name": "stdout",
          "output_type": "stream",
          "text": [
            "$WFM: possibly delisted; No price data found  (1d 2013-12-31 -> 2023-12-31)\n"
          ]
        },
        {
          "name": "stderr",
          "output_type": "stream",
          "text": [
            "[*********************100%%**********************]  1 of 1 completed\n",
            "\n",
            "1 Failed download:\n",
            "['ATHMA']: YFTzMissingError('$%ticker%: possibly delisted; No timezone found')\n",
            "[*********************100%%**********************]  1 of 1 completed\n",
            "\n",
            "1 Failed download:\n",
            "['QLGC']: YFPricesMissingError('$%ticker%: possibly delisted; No price data found  (1d 2013-12-31 -> 2023-12-31)')\n",
            "[*********************100%%**********************]  1 of 1 completed\n",
            "\n",
            "1 Failed download:\n",
            "['ATYT']: YFPricesMissingError('$%ticker%: possibly delisted; No price data found  (1d 2013-12-31 -> 2023-12-31)')\n"
          ]
        },
        {
          "name": "stdout",
          "output_type": "stream",
          "text": [
            "$QLGC: possibly delisted; No price data found  (1d 2013-12-31 -> 2023-12-31)\n",
            "$ATYT: possibly delisted; No price data found  (1d 2013-12-31 -> 2023-12-31)\n"
          ]
        },
        {
          "name": "stderr",
          "output_type": "stream",
          "text": [
            "[*********************100%%**********************]  1 of 1 completed\n",
            "[*********************100%%**********************]  1 of 1 completed\n",
            "[*********************100%%**********************]  1 of 1 completed\n",
            "\n",
            "1 Failed download:\n",
            "['YHOO']: YFTzMissingError('$%ticker%: possibly delisted; No timezone found')\n",
            "[*********************100%%**********************]  1 of 1 completed\n",
            "[*********************100%%**********************]  1 of 1 completed\n",
            "[*********************100%%**********************]  1 of 1 completed\n",
            "\n",
            "1 Failed download:\n",
            "['PIXR']: YFPricesMissingError('$%ticker%: possibly delisted; No price data found  (1d 2013-12-31 -> 2023-12-31)')\n"
          ]
        },
        {
          "name": "stdout",
          "output_type": "stream",
          "text": [
            "$PIXR: possibly delisted; No price data found  (1d 2013-12-31 -> 2023-12-31)\n"
          ]
        },
        {
          "name": "stderr",
          "output_type": "stream",
          "text": [
            "[*********************100%%**********************]  1 of 1 completed\n",
            "[*********************100%%**********************]  1 of 1 completed\n",
            "[*********************100%%**********************]  1 of 1 completed\n",
            "\n",
            "1 Failed download:\n",
            "['CDWC']: YFPricesMissingError('$%ticker%: possibly delisted; No price data found  (1d 2013-12-31 -> 2023-12-31)')\n"
          ]
        },
        {
          "name": "stdout",
          "output_type": "stream",
          "text": [
            "$CDWC: possibly delisted; No price data found  (1d 2013-12-31 -> 2023-12-31)\n"
          ]
        },
        {
          "name": "stderr",
          "output_type": "stream",
          "text": [
            "[*********************100%%**********************]  1 of 1 completed\n",
            "[*********************100%%**********************]  1 of 1 completed\n",
            "[*********************100%%**********************]  1 of 1 completed\n",
            "\n",
            "1 Failed download:\n",
            "['LVLT']: YFPricesMissingError('$%ticker%: possibly delisted; No price data found  (1d 2013-12-31 -> 2023-12-31)')\n"
          ]
        },
        {
          "name": "stdout",
          "output_type": "stream",
          "text": [
            "$LVLT: possibly delisted; No price data found  (1d 2013-12-31 -> 2023-12-31)\n"
          ]
        },
        {
          "name": "stderr",
          "output_type": "stream",
          "text": [
            "[*********************100%%**********************]  1 of 1 completed\n",
            "[*********************100%%**********************]  1 of 1 completed\n",
            "\n",
            "1 Failed download:\n",
            "['MWW']: YFPricesMissingError('$%ticker%: possibly delisted; No price data found  (1d 2013-12-31 -> 2023-12-31)')\n"
          ]
        },
        {
          "name": "stdout",
          "output_type": "stream",
          "text": [
            "$MWW: possibly delisted; No price data found  (1d 2013-12-31 -> 2023-12-31)\n"
          ]
        },
        {
          "name": "stderr",
          "output_type": "stream",
          "text": [
            "[*********************100%%**********************]  1 of 1 completed\n",
            "\n",
            "1 Failed download:\n",
            "['DISCK']: YFTzMissingError('$%ticker%: possibly delisted; No timezone found')\n",
            "[*********************100%%**********************]  1 of 1 completed\n",
            "[*********************100%%**********************]  1 of 1 completed\n",
            "\n",
            "1 Failed download:\n",
            "['NLOK']: YFTzMissingError('$%ticker%: possibly delisted; No timezone found')\n",
            "[*********************100%%**********************]  1 of 1 completed\n",
            "\n",
            "1 Failed download:\n",
            "['BGEN']: YFPricesMissingError('$%ticker%: possibly delisted; No price data found  (1d 2013-12-31 -> 2023-12-31)')\n",
            "[*********************100%%**********************]  1 of 1 completed\n",
            "\n",
            "1 Failed download:\n",
            "['CTRX']: YFPricesMissingError('$%ticker%: possibly delisted; No price data found  (1d 2013-12-31 -> 2023-12-31)')\n"
          ]
        },
        {
          "name": "stdout",
          "output_type": "stream",
          "text": [
            "$BGEN: possibly delisted; No price data found  (1d 2013-12-31 -> 2023-12-31)\n",
            "$CTRX: possibly delisted; No price data found  (1d 2013-12-31 -> 2023-12-31)\n"
          ]
        },
        {
          "name": "stderr",
          "output_type": "stream",
          "text": [
            "[*********************100%%**********************]  1 of 1 completed\n",
            "\n",
            "1 Failed download:\n",
            "['AW']: YFPricesMissingError('$%ticker%: possibly delisted; No price data found  (1d 2013-12-31 -> 2023-12-31)')\n",
            "[*********************100%%**********************]  1 of 1 completed\n",
            "\n",
            "1 Failed download:\n",
            "['GENZ']: YFPricesMissingError('$%ticker%: possibly delisted; No price data found  (1d 2013-12-31 -> 2023-12-31)')\n"
          ]
        },
        {
          "name": "stdout",
          "output_type": "stream",
          "text": [
            "$AW: possibly delisted; No price data found  (1d 2013-12-31 -> 2023-12-31)\n",
            "$GENZ: possibly delisted; No price data found  (1d 2013-12-31 -> 2023-12-31)\n"
          ]
        },
        {
          "name": "stderr",
          "output_type": "stream",
          "text": [
            "[*********************100%%**********************]  1 of 1 completed\n",
            "[*********************100%%**********************]  1 of 1 completed\n",
            "\n",
            "1 Failed download:\n",
            "['GMCR']: YFPricesMissingError('$%ticker%: possibly delisted; No price data found  (1d 2013-12-31 -> 2023-12-31)')\n"
          ]
        },
        {
          "name": "stdout",
          "output_type": "stream",
          "text": [
            "$GMCR: possibly delisted; No price data found  (1d 2013-12-31 -> 2023-12-31)\n"
          ]
        },
        {
          "name": "stderr",
          "output_type": "stream",
          "text": [
            "[*********************100%%**********************]  1 of 1 completed\n",
            "\n",
            "1 Failed download:\n",
            "['MFST']: YFTzMissingError('$%ticker%: possibly delisted; No timezone found')\n",
            "[*********************100%%**********************]  1 of 1 completed\n",
            "\n",
            "1 Failed download:\n",
            "['HONI']: YFTzMissingError('$%ticker%: possibly delisted; No timezone found')\n",
            "[*********************100%%**********************]  1 of 1 completed\n",
            "\n",
            "1 Failed download:\n",
            "['MCIP']: YFPricesMissingError('$%ticker%: possibly delisted; No price data found  (1d 2013-12-31 -> 2023-12-31)')\n"
          ]
        },
        {
          "name": "stdout",
          "output_type": "stream",
          "text": [
            "$MCIP: possibly delisted; No price data found  (1d 2013-12-31 -> 2023-12-31)\n"
          ]
        },
        {
          "name": "stderr",
          "output_type": "stream",
          "text": [
            "[*********************100%%**********************]  1 of 1 completed\n",
            "[*********************100%%**********************]  1 of 1 completed\n",
            "[*********************100%%**********************]  1 of 1 completed\n",
            "\n",
            "1 Failed download:\n",
            "['EXDS']: YFPricesMissingError('$%ticker%: possibly delisted; No price data found  (1d 2013-12-31 -> 2023-12-31)')\n"
          ]
        },
        {
          "name": "stdout",
          "output_type": "stream",
          "text": [
            "$EXDS: possibly delisted; No price data found  (1d 2013-12-31 -> 2023-12-31)\n",
            "$ATML: possibly delisted; No price data found  (1d 2013-12-31 -> 2023-12-31)\n"
          ]
        },
        {
          "name": "stderr",
          "output_type": "stream",
          "text": [
            "[*********************100%%**********************]  1 of 1 completed\n",
            "\n",
            "1 Failed download:\n",
            "['ATML']: YFPricesMissingError('$%ticker%: possibly delisted; No price data found  (1d 2013-12-31 -> 2023-12-31)')\n",
            "[*********************100%%**********************]  1 of 1 completed\n",
            "[*********************100%%**********************]  1 of 1 completed\n",
            "\n",
            "1 Failed download:\n",
            "['ADLAC']: YFPricesMissingError('$%ticker%: possibly delisted; No price data found  (1d 2013-12-31 -> 2023-12-31)')\n"
          ]
        },
        {
          "name": "stdout",
          "output_type": "stream",
          "text": [
            "$ADLAC: possibly delisted; No price data found  (1d 2013-12-31 -> 2023-12-31)\n"
          ]
        },
        {
          "name": "stderr",
          "output_type": "stream",
          "text": [
            "[*********************100%%**********************]  1 of 1 completed\n",
            "\n",
            "1 Failed download:\n",
            "['SHLD']: YFChartError(\"%ticker%: Data doesn't exist for startDate = 1388466000, endDate = 1703998800\")\n",
            "[*********************100%%**********************]  1 of 1 completed\n",
            "\n",
            "1 Failed download:\n",
            "['MOLX']: YFPricesMissingError('$%ticker%: possibly delisted; No price data found  (1d 2013-12-31 -> 2023-12-31)')\n"
          ]
        },
        {
          "name": "stdout",
          "output_type": "stream",
          "text": [
            "$MOLX: possibly delisted; No price data found  (1d 2013-12-31 -> 2023-12-31)\n"
          ]
        },
        {
          "name": "stderr",
          "output_type": "stream",
          "text": [
            "[*********************100%%**********************]  1 of 1 completed\n",
            "\n",
            "1 Failed download:\n",
            "['FORE']: YFTzMissingError('$%ticker%: possibly delisted; No timezone found')\n",
            "[*********************100%%**********************]  1 of 1 completed\n",
            "\n",
            "1 Failed download:\n",
            "['LVNTA']: YFPricesMissingError('$%ticker%: possibly delisted; No price data found  (1d 2013-12-31 -> 2023-12-31)')\n"
          ]
        },
        {
          "name": "stdout",
          "output_type": "stream",
          "text": [
            "$LVNTA: possibly delisted; No price data found  (1d 2013-12-31 -> 2023-12-31)\n"
          ]
        },
        {
          "name": "stderr",
          "output_type": "stream",
          "text": [
            "[*********************100%%**********************]  1 of 1 completed\n",
            "[*********************100%%**********************]  1 of 1 completed\n",
            "[*********************100%%**********************]  1 of 1 completed\n",
            "[*********************100%%**********************]  1 of 1 completed\n",
            "[*********************100%%**********************]  1 of 1 completed\n",
            "[*********************100%%**********************]  1 of 1 completed\n",
            "[*********************100%%**********************]  1 of 1 completed\n",
            "\n",
            "1 Failed download:\n",
            "['NOVL']: YFPricesMissingError('$%ticker%: possibly delisted; No price data found  (1d 2013-12-31 -> 2023-12-31)')\n"
          ]
        },
        {
          "name": "stdout",
          "output_type": "stream",
          "text": [
            "$NOVL: possibly delisted; No price data found  (1d 2013-12-31 -> 2023-12-31)\n"
          ]
        },
        {
          "name": "stderr",
          "output_type": "stream",
          "text": [
            "[*********************100%%**********************]  1 of 1 completed\n",
            "\n",
            "1 Failed download:\n",
            "['SPLK']: YFTzMissingError('$%ticker%: possibly delisted; No timezone found')\n",
            "[*********************100%%**********************]  1 of 1 completed\n",
            "\n",
            "1 Failed download:\n",
            "['FLIR']: YFTzMissingError('$%ticker%: possibly delisted; No timezone found')\n",
            "[*********************100%%**********************]  1 of 1 completed\n",
            "\n",
            "1 Failed download:\n",
            "['CSCC']: YFPricesMissingError('$%ticker%: possibly delisted; No price data found  (1d 2013-12-31 -> 2023-12-31)')\n",
            "[*********************100%%**********************]  1 of 1 completed\n",
            "\n",
            "1 Failed download:\n",
            "['COMR']: YFPricesMissingError('$%ticker%: possibly delisted; No price data found  (1d 2013-12-31 -> 2023-12-31)')\n"
          ]
        },
        {
          "name": "stdout",
          "output_type": "stream",
          "text": [
            "$CSCC: possibly delisted; No price data found  (1d 2013-12-31 -> 2023-12-31)\n",
            "$COMR: possibly delisted; No price data found  (1d 2013-12-31 -> 2023-12-31)\n"
          ]
        },
        {
          "name": "stderr",
          "output_type": "stream",
          "text": [
            "[*********************100%%**********************]  1 of 1 completed\n",
            "[*********************100%%**********************]  1 of 1 completed\n",
            "\n",
            "1 Failed download:\n",
            "['BMET']: YFPricesMissingError('$%ticker%: possibly delisted; No price data found  (1d 2013-12-31 -> 2023-12-31)')\n"
          ]
        },
        {
          "name": "stdout",
          "output_type": "stream",
          "text": [
            "$BMET: possibly delisted; No price data found  (1d 2013-12-31 -> 2023-12-31)\n"
          ]
        },
        {
          "name": "stderr",
          "output_type": "stream",
          "text": [
            "[*********************100%%**********************]  1 of 1 completed\n",
            "[*********************100%%**********************]  1 of 1 completed\n",
            "\n",
            "1 Failed download:\n",
            "['TECD']: YFTzMissingError('$%ticker%: possibly delisted; No timezone found')\n",
            "[*********************100%%**********************]  1 of 1 completed\n",
            "[*********************100%%**********************]  1 of 1 completed\n",
            "[*********************100%%**********************]  1 of 1 completed\n",
            "[*********************100%%**********************]  1 of 1 completed\n",
            "[*********************100%%**********************]  1 of 1 completed\n",
            "[*********************100%%**********************]  1 of 1 completed\n",
            "[*********************100%%**********************]  1 of 1 completed\n",
            "[*********************100%%**********************]  1 of 1 completed\n",
            "\n",
            "1 Failed download:\n",
            "['EDCI']: YFTzMissingError('$%ticker%: possibly delisted; No timezone found')\n",
            "[*********************100%%**********************]  1 of 1 completed\n",
            "\n",
            "1 Failed download:\n",
            "['PDLI']: YFTzMissingError('$%ticker%: possibly delisted; No timezone found')\n",
            "[*********************100%%**********************]  1 of 1 completed\n",
            "[*********************100%%**********************]  1 of 1 completed\n",
            "[*********************100%%**********************]  1 of 1 completed\n"
          ]
        }
      ],
      "source": [
        "# Define the end date\n",
        "end_date = datetime(2023, 12, 31)\n",
        "# Define the start date (10 years before the end date)\n",
        "start_date = datetime(2013, 12, 31)\n",
        "\n",
        "# Dictionary to store the valid tickers with sufficient historical data\n",
        "valid_tickers = {}\n",
        "\n",
        "for ticker in total_tickers:\n",
        "    # Download data\n",
        "    df = yf.download(ticker, start = start_date.strftime('%Y-%m-%d'), end = end_date.strftime('%Y-%m-%d'), progress = True)\n",
        "\n",
        "    df = df[['Close']]\n",
        "\n",
        "    valid_tickers[ticker] = df\n",
        "\n",
        "# Combine valid tickers into a single DataFrame\n",
        "if valid_tickers:\n",
        "    combined_data = pd.concat(valid_tickers, axis=1)\n"
      ]
    },
    {
      "cell_type": "code",
      "execution_count": null,
      "id": "b22f762c",
      "metadata": {
        "id": "b22f762c",
        "outputId": "8781501d-3a4d-455a-e141-7bfbe572b202"
      },
      "outputs": [
        {
          "data": {
            "text/html": [
              "<div>\n",
              "<style scoped>\n",
              "    .dataframe tbody tr th:only-of-type {\n",
              "        vertical-align: middle;\n",
              "    }\n",
              "\n",
              "    .dataframe tbody tr th {\n",
              "        vertical-align: top;\n",
              "    }\n",
              "\n",
              "    .dataframe thead th {\n",
              "        text-align: right;\n",
              "    }\n",
              "</style>\n",
              "<table border=\"1\" class=\"dataframe\">\n",
              "  <thead>\n",
              "    <tr style=\"text-align: right;\">\n",
              "      <th></th>\n",
              "      <th>ADBE</th>\n",
              "      <th>ADP</th>\n",
              "      <th>ABNB</th>\n",
              "      <th>GOOGL</th>\n",
              "      <th>GOOG</th>\n",
              "      <th>AMZN</th>\n",
              "      <th>AMD</th>\n",
              "      <th>AEP</th>\n",
              "      <th>AMGN</th>\n",
              "      <th>ADI</th>\n",
              "      <th>...</th>\n",
              "      <th>ADTN</th>\n",
              "      <th>PALM</th>\n",
              "      <th>VTRS</th>\n",
              "      <th>LOGI</th>\n",
              "      <th>DIGI</th>\n",
              "      <th>EDCI</th>\n",
              "      <th>PDLI</th>\n",
              "      <th>TWX</th>\n",
              "      <th>NTAP</th>\n",
              "      <th>ADCT</th>\n",
              "    </tr>\n",
              "    <tr>\n",
              "      <th>Date</th>\n",
              "      <th></th>\n",
              "      <th></th>\n",
              "      <th></th>\n",
              "      <th></th>\n",
              "      <th></th>\n",
              "      <th></th>\n",
              "      <th></th>\n",
              "      <th></th>\n",
              "      <th></th>\n",
              "      <th></th>\n",
              "      <th></th>\n",
              "      <th></th>\n",
              "      <th></th>\n",
              "      <th></th>\n",
              "      <th></th>\n",
              "      <th></th>\n",
              "      <th></th>\n",
              "      <th></th>\n",
              "      <th></th>\n",
              "      <th></th>\n",
              "      <th></th>\n",
              "    </tr>\n",
              "  </thead>\n",
              "  <tbody>\n",
              "    <tr>\n",
              "      <th>2013-12-31 00:00:00</th>\n",
              "      <td>59.880001</td>\n",
              "      <td>70.939423</td>\n",
              "      <td>NaN</td>\n",
              "      <td>28.045795</td>\n",
              "      <td>NaN</td>\n",
              "      <td>19.939501</td>\n",
              "      <td>3.870000</td>\n",
              "      <td>46.740002</td>\n",
              "      <td>114.080002</td>\n",
              "      <td>50.930000</td>\n",
              "      <td>...</td>\n",
              "      <td>27.010000</td>\n",
              "      <td>NaN</td>\n",
              "      <td>43.400002</td>\n",
              "      <td>13.690000</td>\n",
              "      <td>0.0014</td>\n",
              "      <td>NaN</td>\n",
              "      <td>NaN</td>\n",
              "      <td>66.841148</td>\n",
              "      <td>41.139999</td>\n",
              "      <td>NaN</td>\n",
              "    </tr>\n",
              "    <tr>\n",
              "      <th>2014-01-02 00:00:00</th>\n",
              "      <td>59.290001</td>\n",
              "      <td>70.114136</td>\n",
              "      <td>NaN</td>\n",
              "      <td>27.855856</td>\n",
              "      <td>NaN</td>\n",
              "      <td>19.898500</td>\n",
              "      <td>3.950000</td>\n",
              "      <td>46.130001</td>\n",
              "      <td>115.800003</td>\n",
              "      <td>49.279999</td>\n",
              "      <td>...</td>\n",
              "      <td>26.420000</td>\n",
              "      <td>NaN</td>\n",
              "      <td>42.580002</td>\n",
              "      <td>13.350000</td>\n",
              "      <td>0.0030</td>\n",
              "      <td>NaN</td>\n",
              "      <td>NaN</td>\n",
              "      <td>65.892029</td>\n",
              "      <td>40.419998</td>\n",
              "      <td>NaN</td>\n",
              "    </tr>\n",
              "    <tr>\n",
              "      <th>2014-01-03 00:00:00</th>\n",
              "      <td>59.160000</td>\n",
              "      <td>70.877960</td>\n",
              "      <td>NaN</td>\n",
              "      <td>27.652653</td>\n",
              "      <td>NaN</td>\n",
              "      <td>19.822001</td>\n",
              "      <td>4.000000</td>\n",
              "      <td>46.110001</td>\n",
              "      <td>114.470001</td>\n",
              "      <td>49.610001</td>\n",
              "      <td>...</td>\n",
              "      <td>26.510000</td>\n",
              "      <td>NaN</td>\n",
              "      <td>42.720001</td>\n",
              "      <td>13.400000</td>\n",
              "      <td>0.0016</td>\n",
              "      <td>NaN</td>\n",
              "      <td>NaN</td>\n",
              "      <td>65.834511</td>\n",
              "      <td>40.330002</td>\n",
              "      <td>NaN</td>\n",
              "    </tr>\n",
              "    <tr>\n",
              "      <th>2014-01-06 00:00:00</th>\n",
              "      <td>58.119999</td>\n",
              "      <td>70.070236</td>\n",
              "      <td>NaN</td>\n",
              "      <td>27.960960</td>\n",
              "      <td>NaN</td>\n",
              "      <td>19.681499</td>\n",
              "      <td>4.130000</td>\n",
              "      <td>46.080002</td>\n",
              "      <td>113.480003</td>\n",
              "      <td>49.330002</td>\n",
              "      <td>...</td>\n",
              "      <td>26.549999</td>\n",
              "      <td>NaN</td>\n",
              "      <td>42.259998</td>\n",
              "      <td>13.590000</td>\n",
              "      <td>0.0016</td>\n",
              "      <td>NaN</td>\n",
              "      <td>NaN</td>\n",
              "      <td>65.345566</td>\n",
              "      <td>40.150002</td>\n",
              "      <td>NaN</td>\n",
              "    </tr>\n",
              "    <tr>\n",
              "      <th>2014-01-07 00:00:00</th>\n",
              "      <td>58.970001</td>\n",
              "      <td>70.921860</td>\n",
              "      <td>NaN</td>\n",
              "      <td>28.500000</td>\n",
              "      <td>NaN</td>\n",
              "      <td>19.901501</td>\n",
              "      <td>4.180000</td>\n",
              "      <td>46.380001</td>\n",
              "      <td>116.430000</td>\n",
              "      <td>49.590000</td>\n",
              "      <td>...</td>\n",
              "      <td>26.780001</td>\n",
              "      <td>NaN</td>\n",
              "      <td>42.980000</td>\n",
              "      <td>14.050000</td>\n",
              "      <td>0.0016</td>\n",
              "      <td>NaN</td>\n",
              "      <td>NaN</td>\n",
              "      <td>64.712814</td>\n",
              "      <td>40.820000</td>\n",
              "      <td>NaN</td>\n",
              "    </tr>\n",
              "    <tr>\n",
              "      <th>...</th>\n",
              "      <td>...</td>\n",
              "      <td>...</td>\n",
              "      <td>...</td>\n",
              "      <td>...</td>\n",
              "      <td>...</td>\n",
              "      <td>...</td>\n",
              "      <td>...</td>\n",
              "      <td>...</td>\n",
              "      <td>...</td>\n",
              "      <td>...</td>\n",
              "      <td>...</td>\n",
              "      <td>...</td>\n",
              "      <td>...</td>\n",
              "      <td>...</td>\n",
              "      <td>...</td>\n",
              "      <td>...</td>\n",
              "      <td>...</td>\n",
              "      <td>...</td>\n",
              "      <td>...</td>\n",
              "      <td>...</td>\n",
              "      <td>...</td>\n",
              "    </tr>\n",
              "    <tr>\n",
              "      <th>2023-12-22 00:00:00</th>\n",
              "      <td>598.750000</td>\n",
              "      <td>230.970001</td>\n",
              "      <td>140.800003</td>\n",
              "      <td>141.490005</td>\n",
              "      <td>142.720001</td>\n",
              "      <td>153.419998</td>\n",
              "      <td>139.600006</td>\n",
              "      <td>80.379997</td>\n",
              "      <td>284.160004</td>\n",
              "      <td>197.100006</td>\n",
              "      <td>...</td>\n",
              "      <td>7.150000</td>\n",
              "      <td>NaN</td>\n",
              "      <td>10.650000</td>\n",
              "      <td>92.580002</td>\n",
              "      <td>0.0001</td>\n",
              "      <td>NaN</td>\n",
              "      <td>NaN</td>\n",
              "      <td>NaN</td>\n",
              "      <td>89.400002</td>\n",
              "      <td>1.48</td>\n",
              "    </tr>\n",
              "    <tr>\n",
              "      <th>2023-12-26 00:00:00</th>\n",
              "      <td>598.260010</td>\n",
              "      <td>232.539993</td>\n",
              "      <td>138.720001</td>\n",
              "      <td>141.520004</td>\n",
              "      <td>142.820007</td>\n",
              "      <td>153.410004</td>\n",
              "      <td>143.410004</td>\n",
              "      <td>80.730003</td>\n",
              "      <td>283.899994</td>\n",
              "      <td>198.869995</td>\n",
              "      <td>...</td>\n",
              "      <td>7.330000</td>\n",
              "      <td>NaN</td>\n",
              "      <td>10.710000</td>\n",
              "      <td>93.230003</td>\n",
              "      <td>0.0001</td>\n",
              "      <td>NaN</td>\n",
              "      <td>NaN</td>\n",
              "      <td>NaN</td>\n",
              "      <td>89.379997</td>\n",
              "      <td>1.65</td>\n",
              "    </tr>\n",
              "    <tr>\n",
              "      <th>2023-12-27 00:00:00</th>\n",
              "      <td>596.080017</td>\n",
              "      <td>231.610001</td>\n",
              "      <td>136.550003</td>\n",
              "      <td>140.369995</td>\n",
              "      <td>141.440002</td>\n",
              "      <td>153.339996</td>\n",
              "      <td>146.070007</td>\n",
              "      <td>80.809998</td>\n",
              "      <td>286.529999</td>\n",
              "      <td>199.350006</td>\n",
              "      <td>...</td>\n",
              "      <td>7.300000</td>\n",
              "      <td>NaN</td>\n",
              "      <td>10.770000</td>\n",
              "      <td>94.559998</td>\n",
              "      <td>0.0001</td>\n",
              "      <td>NaN</td>\n",
              "      <td>NaN</td>\n",
              "      <td>NaN</td>\n",
              "      <td>88.599998</td>\n",
              "      <td>1.72</td>\n",
              "    </tr>\n",
              "    <tr>\n",
              "      <th>2023-12-28 00:00:00</th>\n",
              "      <td>595.520020</td>\n",
              "      <td>232.490005</td>\n",
              "      <td>137.000000</td>\n",
              "      <td>140.229996</td>\n",
              "      <td>141.279999</td>\n",
              "      <td>153.380005</td>\n",
              "      <td>148.759995</td>\n",
              "      <td>81.330002</td>\n",
              "      <td>288.459991</td>\n",
              "      <td>200.240005</td>\n",
              "      <td>...</td>\n",
              "      <td>7.400000</td>\n",
              "      <td>NaN</td>\n",
              "      <td>10.850000</td>\n",
              "      <td>94.510002</td>\n",
              "      <td>0.0001</td>\n",
              "      <td>NaN</td>\n",
              "      <td>NaN</td>\n",
              "      <td>NaN</td>\n",
              "      <td>88.209999</td>\n",
              "      <td>1.59</td>\n",
              "    </tr>\n",
              "    <tr>\n",
              "      <th>2023-12-29 00:00:00</th>\n",
              "      <td>596.599976</td>\n",
              "      <td>232.970001</td>\n",
              "      <td>136.139999</td>\n",
              "      <td>139.690002</td>\n",
              "      <td>140.929993</td>\n",
              "      <td>151.940002</td>\n",
              "      <td>147.410004</td>\n",
              "      <td>81.220001</td>\n",
              "      <td>288.019989</td>\n",
              "      <td>198.559998</td>\n",
              "      <td>...</td>\n",
              "      <td>7.340000</td>\n",
              "      <td>NaN</td>\n",
              "      <td>10.830000</td>\n",
              "      <td>95.059998</td>\n",
              "      <td>0.0001</td>\n",
              "      <td>NaN</td>\n",
              "      <td>NaN</td>\n",
              "      <td>NaN</td>\n",
              "      <td>88.160004</td>\n",
              "      <td>1.66</td>\n",
              "    </tr>\n",
              "  </tbody>\n",
              "</table>\n",
              "<p>2517 rows × 422 columns</p>\n",
              "</div>"
            ],
            "text/plain": [
              "                           ADBE         ADP        ABNB       GOOGL  \\\n",
              "Date                                                                  \n",
              "2013-12-31 00:00:00   59.880001   70.939423         NaN   28.045795   \n",
              "2014-01-02 00:00:00   59.290001   70.114136         NaN   27.855856   \n",
              "2014-01-03 00:00:00   59.160000   70.877960         NaN   27.652653   \n",
              "2014-01-06 00:00:00   58.119999   70.070236         NaN   27.960960   \n",
              "2014-01-07 00:00:00   58.970001   70.921860         NaN   28.500000   \n",
              "...                         ...         ...         ...         ...   \n",
              "2023-12-22 00:00:00  598.750000  230.970001  140.800003  141.490005   \n",
              "2023-12-26 00:00:00  598.260010  232.539993  138.720001  141.520004   \n",
              "2023-12-27 00:00:00  596.080017  231.610001  136.550003  140.369995   \n",
              "2023-12-28 00:00:00  595.520020  232.490005  137.000000  140.229996   \n",
              "2023-12-29 00:00:00  596.599976  232.970001  136.139999  139.690002   \n",
              "\n",
              "                           GOOG        AMZN         AMD        AEP  \\\n",
              "Date                                                                 \n",
              "2013-12-31 00:00:00         NaN   19.939501    3.870000  46.740002   \n",
              "2014-01-02 00:00:00         NaN   19.898500    3.950000  46.130001   \n",
              "2014-01-03 00:00:00         NaN   19.822001    4.000000  46.110001   \n",
              "2014-01-06 00:00:00         NaN   19.681499    4.130000  46.080002   \n",
              "2014-01-07 00:00:00         NaN   19.901501    4.180000  46.380001   \n",
              "...                         ...         ...         ...        ...   \n",
              "2023-12-22 00:00:00  142.720001  153.419998  139.600006  80.379997   \n",
              "2023-12-26 00:00:00  142.820007  153.410004  143.410004  80.730003   \n",
              "2023-12-27 00:00:00  141.440002  153.339996  146.070007  80.809998   \n",
              "2023-12-28 00:00:00  141.279999  153.380005  148.759995  81.330002   \n",
              "2023-12-29 00:00:00  140.929993  151.940002  147.410004  81.220001   \n",
              "\n",
              "                           AMGN         ADI  ...       ADTN  PALM       VTRS  \\\n",
              "Date                                         ...                               \n",
              "2013-12-31 00:00:00  114.080002   50.930000  ...  27.010000   NaN  43.400002   \n",
              "2014-01-02 00:00:00  115.800003   49.279999  ...  26.420000   NaN  42.580002   \n",
              "2014-01-03 00:00:00  114.470001   49.610001  ...  26.510000   NaN  42.720001   \n",
              "2014-01-06 00:00:00  113.480003   49.330002  ...  26.549999   NaN  42.259998   \n",
              "2014-01-07 00:00:00  116.430000   49.590000  ...  26.780001   NaN  42.980000   \n",
              "...                         ...         ...  ...        ...   ...        ...   \n",
              "2023-12-22 00:00:00  284.160004  197.100006  ...   7.150000   NaN  10.650000   \n",
              "2023-12-26 00:00:00  283.899994  198.869995  ...   7.330000   NaN  10.710000   \n",
              "2023-12-27 00:00:00  286.529999  199.350006  ...   7.300000   NaN  10.770000   \n",
              "2023-12-28 00:00:00  288.459991  200.240005  ...   7.400000   NaN  10.850000   \n",
              "2023-12-29 00:00:00  288.019989  198.559998  ...   7.340000   NaN  10.830000   \n",
              "\n",
              "                          LOGI    DIGI  EDCI  PDLI        TWX       NTAP  ADCT  \n",
              "Date                                                                            \n",
              "2013-12-31 00:00:00  13.690000  0.0014   NaN   NaN  66.841148  41.139999   NaN  \n",
              "2014-01-02 00:00:00  13.350000  0.0030   NaN   NaN  65.892029  40.419998   NaN  \n",
              "2014-01-03 00:00:00  13.400000  0.0016   NaN   NaN  65.834511  40.330002   NaN  \n",
              "2014-01-06 00:00:00  13.590000  0.0016   NaN   NaN  65.345566  40.150002   NaN  \n",
              "2014-01-07 00:00:00  14.050000  0.0016   NaN   NaN  64.712814  40.820000   NaN  \n",
              "...                        ...     ...   ...   ...        ...        ...   ...  \n",
              "2023-12-22 00:00:00  92.580002  0.0001   NaN   NaN        NaN  89.400002  1.48  \n",
              "2023-12-26 00:00:00  93.230003  0.0001   NaN   NaN        NaN  89.379997  1.65  \n",
              "2023-12-27 00:00:00  94.559998  0.0001   NaN   NaN        NaN  88.599998  1.72  \n",
              "2023-12-28 00:00:00  94.510002  0.0001   NaN   NaN        NaN  88.209999  1.59  \n",
              "2023-12-29 00:00:00  95.059998  0.0001   NaN   NaN        NaN  88.160004  1.66  \n",
              "\n",
              "[2517 rows x 422 columns]"
            ]
          },
          "execution_count": 20,
          "metadata": {},
          "output_type": "execute_result"
        }
      ],
      "source": [
        "combined_data"
      ]
    },
    {
      "cell_type": "markdown",
      "source": [
        "using a specific library we retrieve the history of trading days for the considered market and look if we have the same number of days for the downloaded data:"
      ],
      "metadata": {
        "id": "Ezb01F8c2axB"
      },
      "id": "Ezb01F8c2axB"
    },
    {
      "cell_type": "code",
      "execution_count": null,
      "id": "e13b2496-619a-4258-ab60-0b3192ee7708",
      "metadata": {
        "scrolled": true,
        "id": "e13b2496-619a-4258-ab60-0b3192ee7708",
        "outputId": "1389a967-ecd9-410c-ca2a-ac8652063a5e"
      },
      "outputs": [
        {
          "data": {
            "text/plain": [
              "DatetimeIndex(['2013-12-31 00:00:00+00:00', '2014-01-02 00:00:00+00:00',\n",
              "               '2014-01-03 00:00:00+00:00', '2014-01-06 00:00:00+00:00',\n",
              "               '2014-01-07 00:00:00+00:00', '2014-01-08 00:00:00+00:00',\n",
              "               '2014-01-09 00:00:00+00:00', '2014-01-10 00:00:00+00:00',\n",
              "               '2014-01-13 00:00:00+00:00', '2014-01-14 00:00:00+00:00',\n",
              "               ...\n",
              "               '2023-12-15 00:00:00+00:00', '2023-12-18 00:00:00+00:00',\n",
              "               '2023-12-19 00:00:00+00:00', '2023-12-20 00:00:00+00:00',\n",
              "               '2023-12-21 00:00:00+00:00', '2023-12-22 00:00:00+00:00',\n",
              "               '2023-12-26 00:00:00+00:00', '2023-12-27 00:00:00+00:00',\n",
              "               '2023-12-28 00:00:00+00:00', '2023-12-29 00:00:00+00:00'],\n",
              "              dtype='datetime64[ns, UTC]', length=2517, freq=None)"
            ]
          },
          "execution_count": 21,
          "metadata": {},
          "output_type": "execute_result"
        }
      ],
      "source": [
        "import pandas_market_calendars as mcal\n",
        "\n",
        "nas = mcal.get_calendar(\"NASDAQ\")\n",
        "trading_days = nas.valid_days(start_date = start_date, end_date = end_date)\n",
        "trading_days"
      ]
    },
    {
      "cell_type": "code",
      "execution_count": null,
      "id": "ead2a19e-2bbc-4712-95a4-94a9face24f0",
      "metadata": {
        "id": "ead2a19e-2bbc-4712-95a4-94a9face24f0"
      },
      "outputs": [],
      "source": [
        "combined_data.columns = combined_data.columns.get_level_values(0)"
      ]
    },
    {
      "cell_type": "markdown",
      "id": "d36fae41-c003-4864-80f0-c31d021984c1",
      "metadata": {
        "id": "d36fae41-c003-4864-80f0-c31d021984c1"
      },
      "source": [
        "Probably not all the downloaded data are going to be useable because of missing values.\n",
        "Let's define a function to check if data for a stock respect that there are non-NaN after the first historical data present in the time series and if there is enough data to perform a rolling regression:"
      ]
    },
    {
      "cell_type": "code",
      "execution_count": null,
      "id": "85b39c80",
      "metadata": {
        "id": "85b39c80",
        "outputId": "b36de6b2-24a8-4d1e-fd39-dc838dc1bbe7"
      },
      "outputs": [
        {
          "data": {
            "text/html": [
              "<div>\n",
              "<style scoped>\n",
              "    .dataframe tbody tr th:only-of-type {\n",
              "        vertical-align: middle;\n",
              "    }\n",
              "\n",
              "    .dataframe tbody tr th {\n",
              "        vertical-align: top;\n",
              "    }\n",
              "\n",
              "    .dataframe thead th {\n",
              "        text-align: right;\n",
              "    }\n",
              "</style>\n",
              "<table border=\"1\" class=\"dataframe\">\n",
              "  <thead>\n",
              "    <tr style=\"text-align: right;\">\n",
              "      <th></th>\n",
              "      <th>ADBE</th>\n",
              "      <th>ADP</th>\n",
              "      <th>ABNB</th>\n",
              "      <th>GOOGL</th>\n",
              "      <th>GOOG</th>\n",
              "      <th>AMZN</th>\n",
              "      <th>AMD</th>\n",
              "      <th>AEP</th>\n",
              "      <th>AMGN</th>\n",
              "      <th>ADI</th>\n",
              "      <th>...</th>\n",
              "      <th>ASND</th>\n",
              "      <th>MCIC</th>\n",
              "      <th>MAT</th>\n",
              "      <th>KELYA</th>\n",
              "      <th>ADTN</th>\n",
              "      <th>VTRS</th>\n",
              "      <th>LOGI</th>\n",
              "      <th>DIGI</th>\n",
              "      <th>NTAP</th>\n",
              "      <th>ADCT</th>\n",
              "    </tr>\n",
              "    <tr>\n",
              "      <th>Date</th>\n",
              "      <th></th>\n",
              "      <th></th>\n",
              "      <th></th>\n",
              "      <th></th>\n",
              "      <th></th>\n",
              "      <th></th>\n",
              "      <th></th>\n",
              "      <th></th>\n",
              "      <th></th>\n",
              "      <th></th>\n",
              "      <th></th>\n",
              "      <th></th>\n",
              "      <th></th>\n",
              "      <th></th>\n",
              "      <th></th>\n",
              "      <th></th>\n",
              "      <th></th>\n",
              "      <th></th>\n",
              "      <th></th>\n",
              "      <th></th>\n",
              "      <th></th>\n",
              "    </tr>\n",
              "  </thead>\n",
              "  <tbody>\n",
              "    <tr>\n",
              "      <th>2013-12-31 00:00:00</th>\n",
              "      <td>59.880001</td>\n",
              "      <td>70.939423</td>\n",
              "      <td>NaN</td>\n",
              "      <td>28.045795</td>\n",
              "      <td>NaN</td>\n",
              "      <td>19.939501</td>\n",
              "      <td>3.870000</td>\n",
              "      <td>46.740002</td>\n",
              "      <td>114.080002</td>\n",
              "      <td>50.930000</td>\n",
              "      <td>...</td>\n",
              "      <td>NaN</td>\n",
              "      <td>0.0024</td>\n",
              "      <td>47.580002</td>\n",
              "      <td>24.940001</td>\n",
              "      <td>27.010000</td>\n",
              "      <td>43.400002</td>\n",
              "      <td>13.690000</td>\n",
              "      <td>0.0014</td>\n",
              "      <td>41.139999</td>\n",
              "      <td>NaN</td>\n",
              "    </tr>\n",
              "    <tr>\n",
              "      <th>2014-01-02 00:00:00</th>\n",
              "      <td>59.290001</td>\n",
              "      <td>70.114136</td>\n",
              "      <td>NaN</td>\n",
              "      <td>27.855856</td>\n",
              "      <td>NaN</td>\n",
              "      <td>19.898500</td>\n",
              "      <td>3.950000</td>\n",
              "      <td>46.130001</td>\n",
              "      <td>115.800003</td>\n",
              "      <td>49.279999</td>\n",
              "      <td>...</td>\n",
              "      <td>NaN</td>\n",
              "      <td>0.0030</td>\n",
              "      <td>47.389999</td>\n",
              "      <td>24.610001</td>\n",
              "      <td>26.420000</td>\n",
              "      <td>42.580002</td>\n",
              "      <td>13.350000</td>\n",
              "      <td>0.0030</td>\n",
              "      <td>40.419998</td>\n",
              "      <td>NaN</td>\n",
              "    </tr>\n",
              "    <tr>\n",
              "      <th>2014-01-03 00:00:00</th>\n",
              "      <td>59.160000</td>\n",
              "      <td>70.877960</td>\n",
              "      <td>NaN</td>\n",
              "      <td>27.652653</td>\n",
              "      <td>NaN</td>\n",
              "      <td>19.822001</td>\n",
              "      <td>4.000000</td>\n",
              "      <td>46.110001</td>\n",
              "      <td>114.470001</td>\n",
              "      <td>49.610001</td>\n",
              "      <td>...</td>\n",
              "      <td>NaN</td>\n",
              "      <td>0.0029</td>\n",
              "      <td>46.869999</td>\n",
              "      <td>24.680000</td>\n",
              "      <td>26.510000</td>\n",
              "      <td>42.720001</td>\n",
              "      <td>13.400000</td>\n",
              "      <td>0.0016</td>\n",
              "      <td>40.330002</td>\n",
              "      <td>NaN</td>\n",
              "    </tr>\n",
              "    <tr>\n",
              "      <th>2014-01-06 00:00:00</th>\n",
              "      <td>58.119999</td>\n",
              "      <td>70.070236</td>\n",
              "      <td>NaN</td>\n",
              "      <td>27.960960</td>\n",
              "      <td>NaN</td>\n",
              "      <td>19.681499</td>\n",
              "      <td>4.130000</td>\n",
              "      <td>46.080002</td>\n",
              "      <td>113.480003</td>\n",
              "      <td>49.330002</td>\n",
              "      <td>...</td>\n",
              "      <td>NaN</td>\n",
              "      <td>0.0029</td>\n",
              "      <td>46.619999</td>\n",
              "      <td>24.350000</td>\n",
              "      <td>26.549999</td>\n",
              "      <td>42.259998</td>\n",
              "      <td>13.590000</td>\n",
              "      <td>0.0016</td>\n",
              "      <td>40.150002</td>\n",
              "      <td>NaN</td>\n",
              "    </tr>\n",
              "    <tr>\n",
              "      <th>2014-01-07 00:00:00</th>\n",
              "      <td>58.970001</td>\n",
              "      <td>70.921860</td>\n",
              "      <td>NaN</td>\n",
              "      <td>28.500000</td>\n",
              "      <td>NaN</td>\n",
              "      <td>19.901501</td>\n",
              "      <td>4.180000</td>\n",
              "      <td>46.380001</td>\n",
              "      <td>116.430000</td>\n",
              "      <td>49.590000</td>\n",
              "      <td>...</td>\n",
              "      <td>NaN</td>\n",
              "      <td>0.0033</td>\n",
              "      <td>46.040001</td>\n",
              "      <td>24.660000</td>\n",
              "      <td>26.780001</td>\n",
              "      <td>42.980000</td>\n",
              "      <td>14.050000</td>\n",
              "      <td>0.0016</td>\n",
              "      <td>40.820000</td>\n",
              "      <td>NaN</td>\n",
              "    </tr>\n",
              "    <tr>\n",
              "      <th>...</th>\n",
              "      <td>...</td>\n",
              "      <td>...</td>\n",
              "      <td>...</td>\n",
              "      <td>...</td>\n",
              "      <td>...</td>\n",
              "      <td>...</td>\n",
              "      <td>...</td>\n",
              "      <td>...</td>\n",
              "      <td>...</td>\n",
              "      <td>...</td>\n",
              "      <td>...</td>\n",
              "      <td>...</td>\n",
              "      <td>...</td>\n",
              "      <td>...</td>\n",
              "      <td>...</td>\n",
              "      <td>...</td>\n",
              "      <td>...</td>\n",
              "      <td>...</td>\n",
              "      <td>...</td>\n",
              "      <td>...</td>\n",
              "      <td>...</td>\n",
              "    </tr>\n",
              "    <tr>\n",
              "      <th>2023-12-22 00:00:00</th>\n",
              "      <td>598.750000</td>\n",
              "      <td>230.970001</td>\n",
              "      <td>140.800003</td>\n",
              "      <td>141.490005</td>\n",
              "      <td>142.720001</td>\n",
              "      <td>153.419998</td>\n",
              "      <td>139.600006</td>\n",
              "      <td>80.379997</td>\n",
              "      <td>284.160004</td>\n",
              "      <td>197.100006</td>\n",
              "      <td>...</td>\n",
              "      <td>124.550003</td>\n",
              "      <td>0.0006</td>\n",
              "      <td>19.120001</td>\n",
              "      <td>21.660000</td>\n",
              "      <td>7.150000</td>\n",
              "      <td>10.650000</td>\n",
              "      <td>92.580002</td>\n",
              "      <td>0.0001</td>\n",
              "      <td>89.400002</td>\n",
              "      <td>1.48</td>\n",
              "    </tr>\n",
              "    <tr>\n",
              "      <th>2023-12-26 00:00:00</th>\n",
              "      <td>598.260010</td>\n",
              "      <td>232.539993</td>\n",
              "      <td>138.720001</td>\n",
              "      <td>141.520004</td>\n",
              "      <td>142.820007</td>\n",
              "      <td>153.410004</td>\n",
              "      <td>143.410004</td>\n",
              "      <td>80.730003</td>\n",
              "      <td>283.899994</td>\n",
              "      <td>198.869995</td>\n",
              "      <td>...</td>\n",
              "      <td>127.120003</td>\n",
              "      <td>0.0005</td>\n",
              "      <td>19.100000</td>\n",
              "      <td>21.900000</td>\n",
              "      <td>7.330000</td>\n",
              "      <td>10.710000</td>\n",
              "      <td>93.230003</td>\n",
              "      <td>0.0001</td>\n",
              "      <td>89.379997</td>\n",
              "      <td>1.65</td>\n",
              "    </tr>\n",
              "    <tr>\n",
              "      <th>2023-12-27 00:00:00</th>\n",
              "      <td>596.080017</td>\n",
              "      <td>231.610001</td>\n",
              "      <td>136.550003</td>\n",
              "      <td>140.369995</td>\n",
              "      <td>141.440002</td>\n",
              "      <td>153.339996</td>\n",
              "      <td>146.070007</td>\n",
              "      <td>80.809998</td>\n",
              "      <td>286.529999</td>\n",
              "      <td>199.350006</td>\n",
              "      <td>...</td>\n",
              "      <td>127.099998</td>\n",
              "      <td>0.0005</td>\n",
              "      <td>18.990000</td>\n",
              "      <td>21.990000</td>\n",
              "      <td>7.300000</td>\n",
              "      <td>10.770000</td>\n",
              "      <td>94.559998</td>\n",
              "      <td>0.0001</td>\n",
              "      <td>88.599998</td>\n",
              "      <td>1.72</td>\n",
              "    </tr>\n",
              "    <tr>\n",
              "      <th>2023-12-28 00:00:00</th>\n",
              "      <td>595.520020</td>\n",
              "      <td>232.490005</td>\n",
              "      <td>137.000000</td>\n",
              "      <td>140.229996</td>\n",
              "      <td>141.279999</td>\n",
              "      <td>153.380005</td>\n",
              "      <td>148.759995</td>\n",
              "      <td>81.330002</td>\n",
              "      <td>288.459991</td>\n",
              "      <td>200.240005</td>\n",
              "      <td>...</td>\n",
              "      <td>127.360001</td>\n",
              "      <td>0.0005</td>\n",
              "      <td>19.129999</td>\n",
              "      <td>21.959999</td>\n",
              "      <td>7.400000</td>\n",
              "      <td>10.850000</td>\n",
              "      <td>94.510002</td>\n",
              "      <td>0.0001</td>\n",
              "      <td>88.209999</td>\n",
              "      <td>1.59</td>\n",
              "    </tr>\n",
              "    <tr>\n",
              "      <th>2023-12-29 00:00:00</th>\n",
              "      <td>596.599976</td>\n",
              "      <td>232.970001</td>\n",
              "      <td>136.139999</td>\n",
              "      <td>139.690002</td>\n",
              "      <td>140.929993</td>\n",
              "      <td>151.940002</td>\n",
              "      <td>147.410004</td>\n",
              "      <td>81.220001</td>\n",
              "      <td>288.019989</td>\n",
              "      <td>198.559998</td>\n",
              "      <td>...</td>\n",
              "      <td>125.949997</td>\n",
              "      <td>0.0005</td>\n",
              "      <td>18.879999</td>\n",
              "      <td>21.620001</td>\n",
              "      <td>7.340000</td>\n",
              "      <td>10.830000</td>\n",
              "      <td>95.059998</td>\n",
              "      <td>0.0001</td>\n",
              "      <td>88.160004</td>\n",
              "      <td>1.66</td>\n",
              "    </tr>\n",
              "  </tbody>\n",
              "</table>\n",
              "<p>2517 rows × 238 columns</p>\n",
              "</div>"
            ],
            "text/plain": [
              "                           ADBE         ADP        ABNB       GOOGL  \\\n",
              "Date                                                                  \n",
              "2013-12-31 00:00:00   59.880001   70.939423         NaN   28.045795   \n",
              "2014-01-02 00:00:00   59.290001   70.114136         NaN   27.855856   \n",
              "2014-01-03 00:00:00   59.160000   70.877960         NaN   27.652653   \n",
              "2014-01-06 00:00:00   58.119999   70.070236         NaN   27.960960   \n",
              "2014-01-07 00:00:00   58.970001   70.921860         NaN   28.500000   \n",
              "...                         ...         ...         ...         ...   \n",
              "2023-12-22 00:00:00  598.750000  230.970001  140.800003  141.490005   \n",
              "2023-12-26 00:00:00  598.260010  232.539993  138.720001  141.520004   \n",
              "2023-12-27 00:00:00  596.080017  231.610001  136.550003  140.369995   \n",
              "2023-12-28 00:00:00  595.520020  232.490005  137.000000  140.229996   \n",
              "2023-12-29 00:00:00  596.599976  232.970001  136.139999  139.690002   \n",
              "\n",
              "                           GOOG        AMZN         AMD        AEP  \\\n",
              "Date                                                                 \n",
              "2013-12-31 00:00:00         NaN   19.939501    3.870000  46.740002   \n",
              "2014-01-02 00:00:00         NaN   19.898500    3.950000  46.130001   \n",
              "2014-01-03 00:00:00         NaN   19.822001    4.000000  46.110001   \n",
              "2014-01-06 00:00:00         NaN   19.681499    4.130000  46.080002   \n",
              "2014-01-07 00:00:00         NaN   19.901501    4.180000  46.380001   \n",
              "...                         ...         ...         ...        ...   \n",
              "2023-12-22 00:00:00  142.720001  153.419998  139.600006  80.379997   \n",
              "2023-12-26 00:00:00  142.820007  153.410004  143.410004  80.730003   \n",
              "2023-12-27 00:00:00  141.440002  153.339996  146.070007  80.809998   \n",
              "2023-12-28 00:00:00  141.279999  153.380005  148.759995  81.330002   \n",
              "2023-12-29 00:00:00  140.929993  151.940002  147.410004  81.220001   \n",
              "\n",
              "                           AMGN         ADI  ...        ASND    MCIC  \\\n",
              "Date                                         ...                       \n",
              "2013-12-31 00:00:00  114.080002   50.930000  ...         NaN  0.0024   \n",
              "2014-01-02 00:00:00  115.800003   49.279999  ...         NaN  0.0030   \n",
              "2014-01-03 00:00:00  114.470001   49.610001  ...         NaN  0.0029   \n",
              "2014-01-06 00:00:00  113.480003   49.330002  ...         NaN  0.0029   \n",
              "2014-01-07 00:00:00  116.430000   49.590000  ...         NaN  0.0033   \n",
              "...                         ...         ...  ...         ...     ...   \n",
              "2023-12-22 00:00:00  284.160004  197.100006  ...  124.550003  0.0006   \n",
              "2023-12-26 00:00:00  283.899994  198.869995  ...  127.120003  0.0005   \n",
              "2023-12-27 00:00:00  286.529999  199.350006  ...  127.099998  0.0005   \n",
              "2023-12-28 00:00:00  288.459991  200.240005  ...  127.360001  0.0005   \n",
              "2023-12-29 00:00:00  288.019989  198.559998  ...  125.949997  0.0005   \n",
              "\n",
              "                           MAT      KELYA       ADTN       VTRS       LOGI  \\\n",
              "Date                                                                         \n",
              "2013-12-31 00:00:00  47.580002  24.940001  27.010000  43.400002  13.690000   \n",
              "2014-01-02 00:00:00  47.389999  24.610001  26.420000  42.580002  13.350000   \n",
              "2014-01-03 00:00:00  46.869999  24.680000  26.510000  42.720001  13.400000   \n",
              "2014-01-06 00:00:00  46.619999  24.350000  26.549999  42.259998  13.590000   \n",
              "2014-01-07 00:00:00  46.040001  24.660000  26.780001  42.980000  14.050000   \n",
              "...                        ...        ...        ...        ...        ...   \n",
              "2023-12-22 00:00:00  19.120001  21.660000   7.150000  10.650000  92.580002   \n",
              "2023-12-26 00:00:00  19.100000  21.900000   7.330000  10.710000  93.230003   \n",
              "2023-12-27 00:00:00  18.990000  21.990000   7.300000  10.770000  94.559998   \n",
              "2023-12-28 00:00:00  19.129999  21.959999   7.400000  10.850000  94.510002   \n",
              "2023-12-29 00:00:00  18.879999  21.620001   7.340000  10.830000  95.059998   \n",
              "\n",
              "                       DIGI       NTAP  ADCT  \n",
              "Date                                          \n",
              "2013-12-31 00:00:00  0.0014  41.139999   NaN  \n",
              "2014-01-02 00:00:00  0.0030  40.419998   NaN  \n",
              "2014-01-03 00:00:00  0.0016  40.330002   NaN  \n",
              "2014-01-06 00:00:00  0.0016  40.150002   NaN  \n",
              "2014-01-07 00:00:00  0.0016  40.820000   NaN  \n",
              "...                     ...        ...   ...  \n",
              "2023-12-22 00:00:00  0.0001  89.400002  1.48  \n",
              "2023-12-26 00:00:00  0.0001  89.379997  1.65  \n",
              "2023-12-27 00:00:00  0.0001  88.599998  1.72  \n",
              "2023-12-28 00:00:00  0.0001  88.209999  1.59  \n",
              "2023-12-29 00:00:00  0.0001  88.160004  1.66  \n",
              "\n",
              "[2517 rows x 238 columns]"
            ]
          },
          "execution_count": 23,
          "metadata": {},
          "output_type": "execute_result"
        }
      ],
      "source": [
        "def is_valid_column(series):\n",
        "    \"\"\"checks whether a column is valid according to the specified conditions:\"\"\"\n",
        "    # Verify if there are NaN values\n",
        "    if series.isnull().any():\n",
        "        # Find first index that is not Nan\n",
        "        first_non_nan_index = series.first_valid_index()\n",
        "        if first_non_nan_index is not None:\n",
        "            # Check whether all values after the first non-NaN are also non-NaN\n",
        "            return series[first_non_nan_index:].isnull().sum() == 0\n",
        "        else:\n",
        "            # If all values are NaN, consider the column as invalid\n",
        "            return False\n",
        "    return True\n",
        "\n",
        "# Filter df columns\n",
        "valid_columns = [col for col in combined_data.columns if is_valid_column(combined_data[col])]\n",
        "df_filtered = combined_data[valid_columns]\n",
        "df_filtered"
      ]
    },
    {
      "cell_type": "markdown",
      "source": [
        "Let's compute logarithmic returns for all selected stocks:"
      ],
      "metadata": {
        "id": "3bsxL-Zq4qTI"
      },
      "id": "3bsxL-Zq4qTI"
    },
    {
      "cell_type": "code",
      "execution_count": null,
      "id": "bfd0915f-ff80-41b0-be3c-0bf26fdc4d03",
      "metadata": {
        "id": "bfd0915f-ff80-41b0-be3c-0bf26fdc4d03",
        "outputId": "6075ac79-a1e4-418b-f211-1db3d53d02f2"
      },
      "outputs": [
        {
          "data": {
            "text/html": [
              "<div>\n",
              "<style scoped>\n",
              "    .dataframe tbody tr th:only-of-type {\n",
              "        vertical-align: middle;\n",
              "    }\n",
              "\n",
              "    .dataframe tbody tr th {\n",
              "        vertical-align: top;\n",
              "    }\n",
              "\n",
              "    .dataframe thead th {\n",
              "        text-align: right;\n",
              "    }\n",
              "</style>\n",
              "<table border=\"1\" class=\"dataframe\">\n",
              "  <thead>\n",
              "    <tr style=\"text-align: right;\">\n",
              "      <th></th>\n",
              "      <th>ADBE</th>\n",
              "      <th>ADP</th>\n",
              "      <th>ABNB</th>\n",
              "      <th>GOOGL</th>\n",
              "      <th>GOOG</th>\n",
              "      <th>AMZN</th>\n",
              "      <th>AMD</th>\n",
              "      <th>AEP</th>\n",
              "      <th>AMGN</th>\n",
              "      <th>ADI</th>\n",
              "      <th>...</th>\n",
              "      <th>ASND</th>\n",
              "      <th>MCIC</th>\n",
              "      <th>MAT</th>\n",
              "      <th>KELYA</th>\n",
              "      <th>ADTN</th>\n",
              "      <th>VTRS</th>\n",
              "      <th>LOGI</th>\n",
              "      <th>DIGI</th>\n",
              "      <th>NTAP</th>\n",
              "      <th>ADCT</th>\n",
              "    </tr>\n",
              "    <tr>\n",
              "      <th>Date</th>\n",
              "      <th></th>\n",
              "      <th></th>\n",
              "      <th></th>\n",
              "      <th></th>\n",
              "      <th></th>\n",
              "      <th></th>\n",
              "      <th></th>\n",
              "      <th></th>\n",
              "      <th></th>\n",
              "      <th></th>\n",
              "      <th></th>\n",
              "      <th></th>\n",
              "      <th></th>\n",
              "      <th></th>\n",
              "      <th></th>\n",
              "      <th></th>\n",
              "      <th></th>\n",
              "      <th></th>\n",
              "      <th></th>\n",
              "      <th></th>\n",
              "      <th></th>\n",
              "    </tr>\n",
              "  </thead>\n",
              "  <tbody>\n",
              "    <tr>\n",
              "      <th>2013-12-31 00:00:00</th>\n",
              "      <td>NaN</td>\n",
              "      <td>NaN</td>\n",
              "      <td>NaN</td>\n",
              "      <td>NaN</td>\n",
              "      <td>NaN</td>\n",
              "      <td>NaN</td>\n",
              "      <td>NaN</td>\n",
              "      <td>NaN</td>\n",
              "      <td>NaN</td>\n",
              "      <td>NaN</td>\n",
              "      <td>...</td>\n",
              "      <td>NaN</td>\n",
              "      <td>NaN</td>\n",
              "      <td>NaN</td>\n",
              "      <td>NaN</td>\n",
              "      <td>NaN</td>\n",
              "      <td>NaN</td>\n",
              "      <td>NaN</td>\n",
              "      <td>NaN</td>\n",
              "      <td>NaN</td>\n",
              "      <td>NaN</td>\n",
              "    </tr>\n",
              "    <tr>\n",
              "      <th>2014-01-02 00:00:00</th>\n",
              "      <td>-0.009902</td>\n",
              "      <td>-0.011702</td>\n",
              "      <td>NaN</td>\n",
              "      <td>-0.006796</td>\n",
              "      <td>NaN</td>\n",
              "      <td>-0.002058</td>\n",
              "      <td>0.020461</td>\n",
              "      <td>-0.013137</td>\n",
              "      <td>0.014965</td>\n",
              "      <td>-0.032934</td>\n",
              "      <td>...</td>\n",
              "      <td>NaN</td>\n",
              "      <td>0.223144</td>\n",
              "      <td>-0.004001</td>\n",
              "      <td>-0.013320</td>\n",
              "      <td>-0.022086</td>\n",
              "      <td>-0.019075</td>\n",
              "      <td>-0.025149</td>\n",
              "      <td>0.762140</td>\n",
              "      <td>-0.017656</td>\n",
              "      <td>NaN</td>\n",
              "    </tr>\n",
              "    <tr>\n",
              "      <th>2014-01-03 00:00:00</th>\n",
              "      <td>-0.002195</td>\n",
              "      <td>0.010835</td>\n",
              "      <td>NaN</td>\n",
              "      <td>-0.007322</td>\n",
              "      <td>NaN</td>\n",
              "      <td>-0.003852</td>\n",
              "      <td>0.012579</td>\n",
              "      <td>-0.000434</td>\n",
              "      <td>-0.011552</td>\n",
              "      <td>0.006674</td>\n",
              "      <td>...</td>\n",
              "      <td>NaN</td>\n",
              "      <td>-0.033902</td>\n",
              "      <td>-0.011033</td>\n",
              "      <td>0.002840</td>\n",
              "      <td>0.003401</td>\n",
              "      <td>0.003283</td>\n",
              "      <td>0.003738</td>\n",
              "      <td>-0.628609</td>\n",
              "      <td>-0.002229</td>\n",
              "      <td>NaN</td>\n",
              "    </tr>\n",
              "    <tr>\n",
              "      <th>2014-01-06 00:00:00</th>\n",
              "      <td>-0.017736</td>\n",
              "      <td>-0.011461</td>\n",
              "      <td>NaN</td>\n",
              "      <td>0.011088</td>\n",
              "      <td>NaN</td>\n",
              "      <td>-0.007113</td>\n",
              "      <td>0.031983</td>\n",
              "      <td>-0.000651</td>\n",
              "      <td>-0.008686</td>\n",
              "      <td>-0.005660</td>\n",
              "      <td>...</td>\n",
              "      <td>NaN</td>\n",
              "      <td>0.000000</td>\n",
              "      <td>-0.005348</td>\n",
              "      <td>-0.013461</td>\n",
              "      <td>0.001508</td>\n",
              "      <td>-0.010826</td>\n",
              "      <td>0.014080</td>\n",
              "      <td>0.000000</td>\n",
              "      <td>-0.004473</td>\n",
              "      <td>NaN</td>\n",
              "    </tr>\n",
              "    <tr>\n",
              "      <th>2014-01-07 00:00:00</th>\n",
              "      <td>0.014519</td>\n",
              "      <td>0.012081</td>\n",
              "      <td>NaN</td>\n",
              "      <td>0.019095</td>\n",
              "      <td>NaN</td>\n",
              "      <td>0.011116</td>\n",
              "      <td>0.012034</td>\n",
              "      <td>0.006489</td>\n",
              "      <td>0.025664</td>\n",
              "      <td>0.005257</td>\n",
              "      <td>...</td>\n",
              "      <td>NaN</td>\n",
              "      <td>0.129212</td>\n",
              "      <td>-0.012519</td>\n",
              "      <td>0.012651</td>\n",
              "      <td>0.008626</td>\n",
              "      <td>0.016894</td>\n",
              "      <td>0.033288</td>\n",
              "      <td>0.000000</td>\n",
              "      <td>0.016550</td>\n",
              "      <td>NaN</td>\n",
              "    </tr>\n",
              "    <tr>\n",
              "      <th>...</th>\n",
              "      <td>...</td>\n",
              "      <td>...</td>\n",
              "      <td>...</td>\n",
              "      <td>...</td>\n",
              "      <td>...</td>\n",
              "      <td>...</td>\n",
              "      <td>...</td>\n",
              "      <td>...</td>\n",
              "      <td>...</td>\n",
              "      <td>...</td>\n",
              "      <td>...</td>\n",
              "      <td>...</td>\n",
              "      <td>...</td>\n",
              "      <td>...</td>\n",
              "      <td>...</td>\n",
              "      <td>...</td>\n",
              "      <td>...</td>\n",
              "      <td>...</td>\n",
              "      <td>...</td>\n",
              "      <td>...</td>\n",
              "      <td>...</td>\n",
              "    </tr>\n",
              "    <tr>\n",
              "      <th>2023-12-22 00:00:00</th>\n",
              "      <td>-0.002319</td>\n",
              "      <td>0.008609</td>\n",
              "      <td>-0.009120</td>\n",
              "      <td>0.007591</td>\n",
              "      <td>0.006467</td>\n",
              "      <td>-0.002734</td>\n",
              "      <td>-0.002218</td>\n",
              "      <td>0.004239</td>\n",
              "      <td>0.017144</td>\n",
              "      <td>0.004169</td>\n",
              "      <td>...</td>\n",
              "      <td>0.022327</td>\n",
              "      <td>0.000000</td>\n",
              "      <td>0.003668</td>\n",
              "      <td>0.007414</td>\n",
              "      <td>0.011252</td>\n",
              "      <td>0.000000</td>\n",
              "      <td>-0.006996</td>\n",
              "      <td>0.000000</td>\n",
              "      <td>-0.001676</td>\n",
              "      <td>0.145182</td>\n",
              "    </tr>\n",
              "    <tr>\n",
              "      <th>2023-12-26 00:00:00</th>\n",
              "      <td>-0.000819</td>\n",
              "      <td>0.006774</td>\n",
              "      <td>-0.014883</td>\n",
              "      <td>0.000212</td>\n",
              "      <td>0.000700</td>\n",
              "      <td>-0.000065</td>\n",
              "      <td>0.026926</td>\n",
              "      <td>0.004345</td>\n",
              "      <td>-0.000915</td>\n",
              "      <td>0.008940</td>\n",
              "      <td>...</td>\n",
              "      <td>0.020424</td>\n",
              "      <td>-0.182322</td>\n",
              "      <td>-0.001047</td>\n",
              "      <td>0.011019</td>\n",
              "      <td>0.024863</td>\n",
              "      <td>0.005618</td>\n",
              "      <td>0.006996</td>\n",
              "      <td>0.000000</td>\n",
              "      <td>-0.000224</td>\n",
              "      <td>0.108733</td>\n",
              "    </tr>\n",
              "    <tr>\n",
              "      <th>2023-12-27 00:00:00</th>\n",
              "      <td>-0.003651</td>\n",
              "      <td>-0.004007</td>\n",
              "      <td>-0.015767</td>\n",
              "      <td>-0.008159</td>\n",
              "      <td>-0.009710</td>\n",
              "      <td>-0.000456</td>\n",
              "      <td>0.018378</td>\n",
              "      <td>0.000990</td>\n",
              "      <td>0.009221</td>\n",
              "      <td>0.002411</td>\n",
              "      <td>...</td>\n",
              "      <td>-0.000157</td>\n",
              "      <td>0.000000</td>\n",
              "      <td>-0.005776</td>\n",
              "      <td>0.004101</td>\n",
              "      <td>-0.004101</td>\n",
              "      <td>0.005587</td>\n",
              "      <td>0.014165</td>\n",
              "      <td>0.000000</td>\n",
              "      <td>-0.008765</td>\n",
              "      <td>0.041549</td>\n",
              "    </tr>\n",
              "    <tr>\n",
              "      <th>2023-12-28 00:00:00</th>\n",
              "      <td>-0.000940</td>\n",
              "      <td>0.003792</td>\n",
              "      <td>0.003290</td>\n",
              "      <td>-0.000998</td>\n",
              "      <td>-0.001132</td>\n",
              "      <td>0.000261</td>\n",
              "      <td>0.018248</td>\n",
              "      <td>0.006414</td>\n",
              "      <td>0.006713</td>\n",
              "      <td>0.004455</td>\n",
              "      <td>...</td>\n",
              "      <td>0.002044</td>\n",
              "      <td>0.000000</td>\n",
              "      <td>0.007345</td>\n",
              "      <td>-0.001365</td>\n",
              "      <td>0.013606</td>\n",
              "      <td>0.007401</td>\n",
              "      <td>-0.000529</td>\n",
              "      <td>0.000000</td>\n",
              "      <td>-0.004412</td>\n",
              "      <td>-0.078590</td>\n",
              "    </tr>\n",
              "    <tr>\n",
              "      <th>2023-12-29 00:00:00</th>\n",
              "      <td>0.001812</td>\n",
              "      <td>0.002062</td>\n",
              "      <td>-0.006297</td>\n",
              "      <td>-0.003858</td>\n",
              "      <td>-0.002480</td>\n",
              "      <td>-0.009433</td>\n",
              "      <td>-0.009116</td>\n",
              "      <td>-0.001353</td>\n",
              "      <td>-0.001527</td>\n",
              "      <td>-0.008425</td>\n",
              "      <td>...</td>\n",
              "      <td>-0.011133</td>\n",
              "      <td>0.000000</td>\n",
              "      <td>-0.013155</td>\n",
              "      <td>-0.015604</td>\n",
              "      <td>-0.008141</td>\n",
              "      <td>-0.001845</td>\n",
              "      <td>0.005803</td>\n",
              "      <td>0.000000</td>\n",
              "      <td>-0.000567</td>\n",
              "      <td>0.043084</td>\n",
              "    </tr>\n",
              "  </tbody>\n",
              "</table>\n",
              "<p>2517 rows × 238 columns</p>\n",
              "</div>"
            ],
            "text/plain": [
              "                         ADBE       ADP      ABNB     GOOGL      GOOG  \\\n",
              "Date                                                                    \n",
              "2013-12-31 00:00:00       NaN       NaN       NaN       NaN       NaN   \n",
              "2014-01-02 00:00:00 -0.009902 -0.011702       NaN -0.006796       NaN   \n",
              "2014-01-03 00:00:00 -0.002195  0.010835       NaN -0.007322       NaN   \n",
              "2014-01-06 00:00:00 -0.017736 -0.011461       NaN  0.011088       NaN   \n",
              "2014-01-07 00:00:00  0.014519  0.012081       NaN  0.019095       NaN   \n",
              "...                       ...       ...       ...       ...       ...   \n",
              "2023-12-22 00:00:00 -0.002319  0.008609 -0.009120  0.007591  0.006467   \n",
              "2023-12-26 00:00:00 -0.000819  0.006774 -0.014883  0.000212  0.000700   \n",
              "2023-12-27 00:00:00 -0.003651 -0.004007 -0.015767 -0.008159 -0.009710   \n",
              "2023-12-28 00:00:00 -0.000940  0.003792  0.003290 -0.000998 -0.001132   \n",
              "2023-12-29 00:00:00  0.001812  0.002062 -0.006297 -0.003858 -0.002480   \n",
              "\n",
              "                         AMZN       AMD       AEP      AMGN       ADI  ...  \\\n",
              "Date                                                                   ...   \n",
              "2013-12-31 00:00:00       NaN       NaN       NaN       NaN       NaN  ...   \n",
              "2014-01-02 00:00:00 -0.002058  0.020461 -0.013137  0.014965 -0.032934  ...   \n",
              "2014-01-03 00:00:00 -0.003852  0.012579 -0.000434 -0.011552  0.006674  ...   \n",
              "2014-01-06 00:00:00 -0.007113  0.031983 -0.000651 -0.008686 -0.005660  ...   \n",
              "2014-01-07 00:00:00  0.011116  0.012034  0.006489  0.025664  0.005257  ...   \n",
              "...                       ...       ...       ...       ...       ...  ...   \n",
              "2023-12-22 00:00:00 -0.002734 -0.002218  0.004239  0.017144  0.004169  ...   \n",
              "2023-12-26 00:00:00 -0.000065  0.026926  0.004345 -0.000915  0.008940  ...   \n",
              "2023-12-27 00:00:00 -0.000456  0.018378  0.000990  0.009221  0.002411  ...   \n",
              "2023-12-28 00:00:00  0.000261  0.018248  0.006414  0.006713  0.004455  ...   \n",
              "2023-12-29 00:00:00 -0.009433 -0.009116 -0.001353 -0.001527 -0.008425  ...   \n",
              "\n",
              "                         ASND      MCIC       MAT     KELYA      ADTN  \\\n",
              "Date                                                                    \n",
              "2013-12-31 00:00:00       NaN       NaN       NaN       NaN       NaN   \n",
              "2014-01-02 00:00:00       NaN  0.223144 -0.004001 -0.013320 -0.022086   \n",
              "2014-01-03 00:00:00       NaN -0.033902 -0.011033  0.002840  0.003401   \n",
              "2014-01-06 00:00:00       NaN  0.000000 -0.005348 -0.013461  0.001508   \n",
              "2014-01-07 00:00:00       NaN  0.129212 -0.012519  0.012651  0.008626   \n",
              "...                       ...       ...       ...       ...       ...   \n",
              "2023-12-22 00:00:00  0.022327  0.000000  0.003668  0.007414  0.011252   \n",
              "2023-12-26 00:00:00  0.020424 -0.182322 -0.001047  0.011019  0.024863   \n",
              "2023-12-27 00:00:00 -0.000157  0.000000 -0.005776  0.004101 -0.004101   \n",
              "2023-12-28 00:00:00  0.002044  0.000000  0.007345 -0.001365  0.013606   \n",
              "2023-12-29 00:00:00 -0.011133  0.000000 -0.013155 -0.015604 -0.008141   \n",
              "\n",
              "                         VTRS      LOGI      DIGI      NTAP      ADCT  \n",
              "Date                                                                   \n",
              "2013-12-31 00:00:00       NaN       NaN       NaN       NaN       NaN  \n",
              "2014-01-02 00:00:00 -0.019075 -0.025149  0.762140 -0.017656       NaN  \n",
              "2014-01-03 00:00:00  0.003283  0.003738 -0.628609 -0.002229       NaN  \n",
              "2014-01-06 00:00:00 -0.010826  0.014080  0.000000 -0.004473       NaN  \n",
              "2014-01-07 00:00:00  0.016894  0.033288  0.000000  0.016550       NaN  \n",
              "...                       ...       ...       ...       ...       ...  \n",
              "2023-12-22 00:00:00  0.000000 -0.006996  0.000000 -0.001676  0.145182  \n",
              "2023-12-26 00:00:00  0.005618  0.006996  0.000000 -0.000224  0.108733  \n",
              "2023-12-27 00:00:00  0.005587  0.014165  0.000000 -0.008765  0.041549  \n",
              "2023-12-28 00:00:00  0.007401 -0.000529  0.000000 -0.004412 -0.078590  \n",
              "2023-12-29 00:00:00 -0.001845  0.005803  0.000000 -0.000567  0.043084  \n",
              "\n",
              "[2517 rows x 238 columns]"
            ]
          },
          "execution_count": 24,
          "metadata": {},
          "output_type": "execute_result"
        }
      ],
      "source": [
        "log_returns = np.log( df_filtered / df_filtered.shift(1))\n",
        "log_returns"
      ]
    },
    {
      "cell_type": "markdown",
      "id": "adc3e740-1dfa-43d8-8b83-492e4abea28b",
      "metadata": {
        "id": "adc3e740-1dfa-43d8-8b83-492e4abea28b"
      },
      "source": [
        "Finally, we download the data of the index chosen as reference and calculate the logarithmic returns:"
      ]
    },
    {
      "cell_type": "code",
      "execution_count": null,
      "id": "26a42347-9730-4c3f-bd8d-e35ec3cb09a6",
      "metadata": {
        "id": "26a42347-9730-4c3f-bd8d-e35ec3cb09a6",
        "outputId": "55a6233b-02ff-461a-aba8-49191ad7ec45"
      },
      "outputs": [
        {
          "name": "stderr",
          "output_type": "stream",
          "text": [
            "[*********************100%%**********************]  1 of 1 completed\n"
          ]
        },
        {
          "data": {
            "text/html": [
              "<div>\n",
              "<style scoped>\n",
              "    .dataframe tbody tr th:only-of-type {\n",
              "        vertical-align: middle;\n",
              "    }\n",
              "\n",
              "    .dataframe tbody tr th {\n",
              "        vertical-align: top;\n",
              "    }\n",
              "\n",
              "    .dataframe thead th {\n",
              "        text-align: right;\n",
              "    }\n",
              "</style>\n",
              "<table border=\"1\" class=\"dataframe\">\n",
              "  <thead>\n",
              "    <tr style=\"text-align: right;\">\n",
              "      <th></th>\n",
              "      <th>Open</th>\n",
              "      <th>High</th>\n",
              "      <th>Low</th>\n",
              "      <th>Close</th>\n",
              "      <th>Adj Close</th>\n",
              "      <th>Volume</th>\n",
              "    </tr>\n",
              "    <tr>\n",
              "      <th>Date</th>\n",
              "      <th></th>\n",
              "      <th></th>\n",
              "      <th></th>\n",
              "      <th></th>\n",
              "      <th></th>\n",
              "      <th></th>\n",
              "    </tr>\n",
              "  </thead>\n",
              "  <tbody>\n",
              "    <tr>\n",
              "      <th>2013-12-31</th>\n",
              "      <td>3576.239990</td>\n",
              "      <td>3592.000000</td>\n",
              "      <td>3575.250000</td>\n",
              "      <td>3592.000000</td>\n",
              "      <td>3592.000000</td>\n",
              "      <td>1401140000</td>\n",
              "    </tr>\n",
              "    <tr>\n",
              "      <th>2014-01-02</th>\n",
              "      <td>3575.600098</td>\n",
              "      <td>3577.030029</td>\n",
              "      <td>3553.649902</td>\n",
              "      <td>3563.570068</td>\n",
              "      <td>3563.570068</td>\n",
              "      <td>1738820000</td>\n",
              "    </tr>\n",
              "    <tr>\n",
              "      <th>2014-01-03</th>\n",
              "      <td>3564.939941</td>\n",
              "      <td>3567.510010</td>\n",
              "      <td>3537.610107</td>\n",
              "      <td>3538.729980</td>\n",
              "      <td>3538.729980</td>\n",
              "      <td>1667480000</td>\n",
              "    </tr>\n",
              "    <tr>\n",
              "      <th>2014-01-06</th>\n",
              "      <td>3539.020020</td>\n",
              "      <td>3542.520020</td>\n",
              "      <td>3512.449951</td>\n",
              "      <td>3526.959961</td>\n",
              "      <td>3526.959961</td>\n",
              "      <td>2292840000</td>\n",
              "    </tr>\n",
              "    <tr>\n",
              "      <th>2014-01-07</th>\n",
              "      <td>3539.290039</td>\n",
              "      <td>3562.989990</td>\n",
              "      <td>3535.500000</td>\n",
              "      <td>3557.850098</td>\n",
              "      <td>3557.850098</td>\n",
              "      <td>2278220000</td>\n",
              "    </tr>\n",
              "    <tr>\n",
              "      <th>...</th>\n",
              "      <td>...</td>\n",
              "      <td>...</td>\n",
              "      <td>...</td>\n",
              "      <td>...</td>\n",
              "      <td>...</td>\n",
              "      <td>...</td>\n",
              "    </tr>\n",
              "    <tr>\n",
              "      <th>2023-12-22</th>\n",
              "      <td>16799.019531</td>\n",
              "      <td>16839.250000</td>\n",
              "      <td>16703.570312</td>\n",
              "      <td>16777.400391</td>\n",
              "      <td>16777.400391</td>\n",
              "      <td>4796600000</td>\n",
              "    </tr>\n",
              "    <tr>\n",
              "      <th>2023-12-26</th>\n",
              "      <td>16816.779297</td>\n",
              "      <td>16907.509766</td>\n",
              "      <td>16813.570312</td>\n",
              "      <td>16878.460938</td>\n",
              "      <td>16878.460938</td>\n",
              "      <td>6120600000</td>\n",
              "    </tr>\n",
              "    <tr>\n",
              "      <th>2023-12-27</th>\n",
              "      <td>16896.140625</td>\n",
              "      <td>16922.009766</td>\n",
              "      <td>16859.550781</td>\n",
              "      <td>16906.800781</td>\n",
              "      <td>16906.800781</td>\n",
              "      <td>7480170000</td>\n",
              "    </tr>\n",
              "    <tr>\n",
              "      <th>2023-12-28</th>\n",
              "      <td>16963.519531</td>\n",
              "      <td>16969.169922</td>\n",
              "      <td>16891.320312</td>\n",
              "      <td>16898.470703</td>\n",
              "      <td>16898.470703</td>\n",
              "      <td>5090570000</td>\n",
              "    </tr>\n",
              "    <tr>\n",
              "      <th>2023-12-29</th>\n",
              "      <td>16902.439453</td>\n",
              "      <td>16919.509766</td>\n",
              "      <td>16757.890625</td>\n",
              "      <td>16825.929688</td>\n",
              "      <td>16825.929688</td>\n",
              "      <td>5441060000</td>\n",
              "    </tr>\n",
              "  </tbody>\n",
              "</table>\n",
              "<p>2517 rows × 6 columns</p>\n",
              "</div>"
            ],
            "text/plain": [
              "                    Open          High           Low         Close  \\\n",
              "Date                                                                 \n",
              "2013-12-31   3576.239990   3592.000000   3575.250000   3592.000000   \n",
              "2014-01-02   3575.600098   3577.030029   3553.649902   3563.570068   \n",
              "2014-01-03   3564.939941   3567.510010   3537.610107   3538.729980   \n",
              "2014-01-06   3539.020020   3542.520020   3512.449951   3526.959961   \n",
              "2014-01-07   3539.290039   3562.989990   3535.500000   3557.850098   \n",
              "...                  ...           ...           ...           ...   \n",
              "2023-12-22  16799.019531  16839.250000  16703.570312  16777.400391   \n",
              "2023-12-26  16816.779297  16907.509766  16813.570312  16878.460938   \n",
              "2023-12-27  16896.140625  16922.009766  16859.550781  16906.800781   \n",
              "2023-12-28  16963.519531  16969.169922  16891.320312  16898.470703   \n",
              "2023-12-29  16902.439453  16919.509766  16757.890625  16825.929688   \n",
              "\n",
              "               Adj Close      Volume  \n",
              "Date                                  \n",
              "2013-12-31   3592.000000  1401140000  \n",
              "2014-01-02   3563.570068  1738820000  \n",
              "2014-01-03   3538.729980  1667480000  \n",
              "2014-01-06   3526.959961  2292840000  \n",
              "2014-01-07   3557.850098  2278220000  \n",
              "...                  ...         ...  \n",
              "2023-12-22  16777.400391  4796600000  \n",
              "2023-12-26  16878.460938  6120600000  \n",
              "2023-12-27  16906.800781  7480170000  \n",
              "2023-12-28  16898.470703  5090570000  \n",
              "2023-12-29  16825.929688  5441060000  \n",
              "\n",
              "[2517 rows x 6 columns]"
            ]
          },
          "execution_count": 25,
          "metadata": {},
          "output_type": "execute_result"
        }
      ],
      "source": [
        "nas100 = yf.download('^NDX', start = start_date, end = end_date)\n",
        "nas100"
      ]
    },
    {
      "cell_type": "code",
      "execution_count": null,
      "id": "7175073d-a80d-4e99-b11f-bd173e96be21",
      "metadata": {
        "id": "7175073d-a80d-4e99-b11f-bd173e96be21",
        "outputId": "ce2e2f33-6553-4568-de81-2a875603d990"
      },
      "outputs": [
        {
          "data": {
            "text/html": [
              "<div>\n",
              "<style scoped>\n",
              "    .dataframe tbody tr th:only-of-type {\n",
              "        vertical-align: middle;\n",
              "    }\n",
              "\n",
              "    .dataframe tbody tr th {\n",
              "        vertical-align: top;\n",
              "    }\n",
              "\n",
              "    .dataframe thead th {\n",
              "        text-align: right;\n",
              "    }\n",
              "</style>\n",
              "<table border=\"1\" class=\"dataframe\">\n",
              "  <thead>\n",
              "    <tr style=\"text-align: right;\">\n",
              "      <th></th>\n",
              "      <th>Close</th>\n",
              "      <th>log_returns</th>\n",
              "    </tr>\n",
              "    <tr>\n",
              "      <th>Date</th>\n",
              "      <th></th>\n",
              "      <th></th>\n",
              "    </tr>\n",
              "  </thead>\n",
              "  <tbody>\n",
              "    <tr>\n",
              "      <th>2013-12-31</th>\n",
              "      <td>3592.000000</td>\n",
              "      <td>NaN</td>\n",
              "    </tr>\n",
              "    <tr>\n",
              "      <th>2014-01-02</th>\n",
              "      <td>3563.570068</td>\n",
              "      <td>-0.007946</td>\n",
              "    </tr>\n",
              "    <tr>\n",
              "      <th>2014-01-03</th>\n",
              "      <td>3538.729980</td>\n",
              "      <td>-0.006995</td>\n",
              "    </tr>\n",
              "    <tr>\n",
              "      <th>2014-01-06</th>\n",
              "      <td>3526.959961</td>\n",
              "      <td>-0.003332</td>\n",
              "    </tr>\n",
              "    <tr>\n",
              "      <th>2014-01-07</th>\n",
              "      <td>3557.850098</td>\n",
              "      <td>0.008720</td>\n",
              "    </tr>\n",
              "    <tr>\n",
              "      <th>...</th>\n",
              "      <td>...</td>\n",
              "      <td>...</td>\n",
              "    </tr>\n",
              "    <tr>\n",
              "      <th>2023-12-22</th>\n",
              "      <td>16777.400391</td>\n",
              "      <td>0.001192</td>\n",
              "    </tr>\n",
              "    <tr>\n",
              "      <th>2023-12-26</th>\n",
              "      <td>16878.460938</td>\n",
              "      <td>0.006006</td>\n",
              "    </tr>\n",
              "    <tr>\n",
              "      <th>2023-12-27</th>\n",
              "      <td>16906.800781</td>\n",
              "      <td>0.001678</td>\n",
              "    </tr>\n",
              "    <tr>\n",
              "      <th>2023-12-28</th>\n",
              "      <td>16898.470703</td>\n",
              "      <td>-0.000493</td>\n",
              "    </tr>\n",
              "    <tr>\n",
              "      <th>2023-12-29</th>\n",
              "      <td>16825.929688</td>\n",
              "      <td>-0.004302</td>\n",
              "    </tr>\n",
              "  </tbody>\n",
              "</table>\n",
              "<p>2517 rows × 2 columns</p>\n",
              "</div>"
            ],
            "text/plain": [
              "                   Close  log_returns\n",
              "Date                                 \n",
              "2013-12-31   3592.000000          NaN\n",
              "2014-01-02   3563.570068    -0.007946\n",
              "2014-01-03   3538.729980    -0.006995\n",
              "2014-01-06   3526.959961    -0.003332\n",
              "2014-01-07   3557.850098     0.008720\n",
              "...                  ...          ...\n",
              "2023-12-22  16777.400391     0.001192\n",
              "2023-12-26  16878.460938     0.006006\n",
              "2023-12-27  16906.800781     0.001678\n",
              "2023-12-28  16898.470703    -0.000493\n",
              "2023-12-29  16825.929688    -0.004302\n",
              "\n",
              "[2517 rows x 2 columns]"
            ]
          },
          "execution_count": 26,
          "metadata": {},
          "output_type": "execute_result"
        }
      ],
      "source": [
        "# Compute log returns\n",
        "nas100['log_returns'] = np.log(nas100.Close / nas100.Close.shift(1))\n",
        "nas100 = nas100[[\"Close\", \"log_returns\"]]\n",
        "nas100"
      ]
    },
    {
      "cell_type": "markdown",
      "source": [
        "Save all acquired data in a csv format:"
      ],
      "metadata": {
        "id": "Ul2Ax6AE40Jd"
      },
      "id": "Ul2Ax6AE40Jd"
    },
    {
      "cell_type": "code",
      "execution_count": null,
      "id": "e567d507-edd2-4c7e-8af2-eff0439a259a",
      "metadata": {
        "id": "e567d507-edd2-4c7e-8af2-eff0439a259a"
      },
      "outputs": [],
      "source": [
        "df_filtered.to_csv(\"Data/StocksPrices.csv\")\n",
        "log_returns.to_csv(\"Data/StocksReturns.csv\")\n",
        "nas100.to_csv(\"Data/nas100.csv\")"
      ]
    }
  ],
  "metadata": {
    "kernelspec": {
      "display_name": "Python 3 (ipykernel)",
      "language": "python",
      "name": "python3"
    },
    "language_info": {
      "codemirror_mode": {
        "name": "ipython",
        "version": 3
      },
      "file_extension": ".py",
      "mimetype": "text/x-python",
      "name": "python",
      "nbconvert_exporter": "python",
      "pygments_lexer": "ipython3",
      "version": "3.10.14"
    },
    "colab": {
      "provenance": []
    }
  },
  "nbformat": 4,
  "nbformat_minor": 5
}